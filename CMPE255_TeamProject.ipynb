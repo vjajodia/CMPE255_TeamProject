{
  "nbformat": 4,
  "nbformat_minor": 0,
  "metadata": {
    "kernelspec": {
      "display_name": "Python 3",
      "language": "python",
      "name": "python3"
    },
    "language_info": {
      "codemirror_mode": {
        "name": "ipython",
        "version": 3
      },
      "file_extension": ".py",
      "mimetype": "text/x-python",
      "name": "python",
      "nbconvert_exporter": "python",
      "pygments_lexer": "ipython3",
      "version": "3.8.5"
    },
    "colab": {
      "name": "Copy of Aniket_DM_Updated (1).ipynb",
      "provenance": [],
      "machine_shape": "hm"
    },
    "widgets": {
      "application/vnd.jupyter.widget-state+json": {
        "d88c60ee706b4e188d5050a64d3d655a": {
          "model_module": "@jupyter-widgets/controls",
          "model_name": "HBoxModel",
          "model_module_version": "1.5.0",
          "state": {
            "_view_name": "HBoxView",
            "_dom_classes": [],
            "_model_name": "HBoxModel",
            "_view_module": "@jupyter-widgets/controls",
            "_model_module_version": "1.5.0",
            "_view_count": null,
            "_view_module_version": "1.5.0",
            "box_style": "",
            "layout": "IPY_MODEL_b6c149640ea74b41b493902d3b176bf1",
            "_model_module": "@jupyter-widgets/controls",
            "children": [
              "IPY_MODEL_9d2c19ab0a73475e8d02d0acbf9d5c3b",
              "IPY_MODEL_7e2e33118eb0406ca246ea36e55649db",
              "IPY_MODEL_0892b023b73045ecb32cc7355028cc0b"
            ]
          }
        },
        "b6c149640ea74b41b493902d3b176bf1": {
          "model_module": "@jupyter-widgets/base",
          "model_name": "LayoutModel",
          "model_module_version": "1.2.0",
          "state": {
            "_view_name": "LayoutView",
            "grid_template_rows": null,
            "right": null,
            "justify_content": null,
            "_view_module": "@jupyter-widgets/base",
            "overflow": null,
            "_model_module_version": "1.2.0",
            "_view_count": null,
            "flex_flow": null,
            "width": null,
            "min_width": null,
            "border": null,
            "align_items": null,
            "bottom": null,
            "_model_module": "@jupyter-widgets/base",
            "top": null,
            "grid_column": null,
            "overflow_y": null,
            "overflow_x": null,
            "grid_auto_flow": null,
            "grid_area": null,
            "grid_template_columns": null,
            "flex": null,
            "_model_name": "LayoutModel",
            "justify_items": null,
            "grid_row": null,
            "max_height": null,
            "align_content": null,
            "visibility": null,
            "align_self": null,
            "height": null,
            "min_height": null,
            "padding": null,
            "grid_auto_rows": null,
            "grid_gap": null,
            "max_width": null,
            "order": null,
            "_view_module_version": "1.2.0",
            "grid_template_areas": null,
            "object_position": null,
            "object_fit": null,
            "grid_auto_columns": null,
            "margin": null,
            "display": null,
            "left": null
          }
        },
        "9d2c19ab0a73475e8d02d0acbf9d5c3b": {
          "model_module": "@jupyter-widgets/controls",
          "model_name": "HTMLModel",
          "model_module_version": "1.5.0",
          "state": {
            "_view_name": "HTMLView",
            "style": "IPY_MODEL_bde425cff5cc4399b432727d99f7a526",
            "_dom_classes": [],
            "description": "",
            "_model_name": "HTMLModel",
            "placeholder": "​",
            "_view_module": "@jupyter-widgets/controls",
            "_model_module_version": "1.5.0",
            "value": "100%",
            "_view_count": null,
            "_view_module_version": "1.5.0",
            "description_tooltip": null,
            "_model_module": "@jupyter-widgets/controls",
            "layout": "IPY_MODEL_71757ecc57e847f6aeca79972f778069"
          }
        },
        "7e2e33118eb0406ca246ea36e55649db": {
          "model_module": "@jupyter-widgets/controls",
          "model_name": "FloatProgressModel",
          "model_module_version": "1.5.0",
          "state": {
            "_view_name": "ProgressView",
            "style": "IPY_MODEL_bbd143f508674765833df4a8a5bbd260",
            "_dom_classes": [],
            "description": "",
            "_model_name": "FloatProgressModel",
            "bar_style": "success",
            "max": 54,
            "_view_module": "@jupyter-widgets/controls",
            "_model_module_version": "1.5.0",
            "value": 54,
            "_view_count": null,
            "_view_module_version": "1.5.0",
            "orientation": "horizontal",
            "min": 0,
            "description_tooltip": null,
            "_model_module": "@jupyter-widgets/controls",
            "layout": "IPY_MODEL_b195b693c61a4c4a85e499c094c1b11d"
          }
        },
        "0892b023b73045ecb32cc7355028cc0b": {
          "model_module": "@jupyter-widgets/controls",
          "model_name": "HTMLModel",
          "model_module_version": "1.5.0",
          "state": {
            "_view_name": "HTMLView",
            "style": "IPY_MODEL_3b58ad1398da4224913631603acd3677",
            "_dom_classes": [],
            "description": "",
            "_model_name": "HTMLModel",
            "placeholder": "​",
            "_view_module": "@jupyter-widgets/controls",
            "_model_module_version": "1.5.0",
            "value": " 54/54 [00:18&lt;00:00,  5.82it/s]",
            "_view_count": null,
            "_view_module_version": "1.5.0",
            "description_tooltip": null,
            "_model_module": "@jupyter-widgets/controls",
            "layout": "IPY_MODEL_a0c0309bfadd4ec3bd0c033940e8f38f"
          }
        },
        "bde425cff5cc4399b432727d99f7a526": {
          "model_module": "@jupyter-widgets/controls",
          "model_name": "DescriptionStyleModel",
          "model_module_version": "1.5.0",
          "state": {
            "_view_name": "StyleView",
            "_model_name": "DescriptionStyleModel",
            "description_width": "",
            "_view_module": "@jupyter-widgets/base",
            "_model_module_version": "1.5.0",
            "_view_count": null,
            "_view_module_version": "1.2.0",
            "_model_module": "@jupyter-widgets/controls"
          }
        },
        "71757ecc57e847f6aeca79972f778069": {
          "model_module": "@jupyter-widgets/base",
          "model_name": "LayoutModel",
          "model_module_version": "1.2.0",
          "state": {
            "_view_name": "LayoutView",
            "grid_template_rows": null,
            "right": null,
            "justify_content": null,
            "_view_module": "@jupyter-widgets/base",
            "overflow": null,
            "_model_module_version": "1.2.0",
            "_view_count": null,
            "flex_flow": null,
            "width": null,
            "min_width": null,
            "border": null,
            "align_items": null,
            "bottom": null,
            "_model_module": "@jupyter-widgets/base",
            "top": null,
            "grid_column": null,
            "overflow_y": null,
            "overflow_x": null,
            "grid_auto_flow": null,
            "grid_area": null,
            "grid_template_columns": null,
            "flex": null,
            "_model_name": "LayoutModel",
            "justify_items": null,
            "grid_row": null,
            "max_height": null,
            "align_content": null,
            "visibility": null,
            "align_self": null,
            "height": null,
            "min_height": null,
            "padding": null,
            "grid_auto_rows": null,
            "grid_gap": null,
            "max_width": null,
            "order": null,
            "_view_module_version": "1.2.0",
            "grid_template_areas": null,
            "object_position": null,
            "object_fit": null,
            "grid_auto_columns": null,
            "margin": null,
            "display": null,
            "left": null
          }
        },
        "bbd143f508674765833df4a8a5bbd260": {
          "model_module": "@jupyter-widgets/controls",
          "model_name": "ProgressStyleModel",
          "model_module_version": "1.5.0",
          "state": {
            "_view_name": "StyleView",
            "_model_name": "ProgressStyleModel",
            "description_width": "",
            "_view_module": "@jupyter-widgets/base",
            "_model_module_version": "1.5.0",
            "_view_count": null,
            "_view_module_version": "1.2.0",
            "bar_color": null,
            "_model_module": "@jupyter-widgets/controls"
          }
        },
        "b195b693c61a4c4a85e499c094c1b11d": {
          "model_module": "@jupyter-widgets/base",
          "model_name": "LayoutModel",
          "model_module_version": "1.2.0",
          "state": {
            "_view_name": "LayoutView",
            "grid_template_rows": null,
            "right": null,
            "justify_content": null,
            "_view_module": "@jupyter-widgets/base",
            "overflow": null,
            "_model_module_version": "1.2.0",
            "_view_count": null,
            "flex_flow": null,
            "width": null,
            "min_width": null,
            "border": null,
            "align_items": null,
            "bottom": null,
            "_model_module": "@jupyter-widgets/base",
            "top": null,
            "grid_column": null,
            "overflow_y": null,
            "overflow_x": null,
            "grid_auto_flow": null,
            "grid_area": null,
            "grid_template_columns": null,
            "flex": null,
            "_model_name": "LayoutModel",
            "justify_items": null,
            "grid_row": null,
            "max_height": null,
            "align_content": null,
            "visibility": null,
            "align_self": null,
            "height": null,
            "min_height": null,
            "padding": null,
            "grid_auto_rows": null,
            "grid_gap": null,
            "max_width": null,
            "order": null,
            "_view_module_version": "1.2.0",
            "grid_template_areas": null,
            "object_position": null,
            "object_fit": null,
            "grid_auto_columns": null,
            "margin": null,
            "display": null,
            "left": null
          }
        },
        "3b58ad1398da4224913631603acd3677": {
          "model_module": "@jupyter-widgets/controls",
          "model_name": "DescriptionStyleModel",
          "model_module_version": "1.5.0",
          "state": {
            "_view_name": "StyleView",
            "_model_name": "DescriptionStyleModel",
            "description_width": "",
            "_view_module": "@jupyter-widgets/base",
            "_model_module_version": "1.5.0",
            "_view_count": null,
            "_view_module_version": "1.2.0",
            "_model_module": "@jupyter-widgets/controls"
          }
        },
        "a0c0309bfadd4ec3bd0c033940e8f38f": {
          "model_module": "@jupyter-widgets/base",
          "model_name": "LayoutModel",
          "model_module_version": "1.2.0",
          "state": {
            "_view_name": "LayoutView",
            "grid_template_rows": null,
            "right": null,
            "justify_content": null,
            "_view_module": "@jupyter-widgets/base",
            "overflow": null,
            "_model_module_version": "1.2.0",
            "_view_count": null,
            "flex_flow": null,
            "width": null,
            "min_width": null,
            "border": null,
            "align_items": null,
            "bottom": null,
            "_model_module": "@jupyter-widgets/base",
            "top": null,
            "grid_column": null,
            "overflow_y": null,
            "overflow_x": null,
            "grid_auto_flow": null,
            "grid_area": null,
            "grid_template_columns": null,
            "flex": null,
            "_model_name": "LayoutModel",
            "justify_items": null,
            "grid_row": null,
            "max_height": null,
            "align_content": null,
            "visibility": null,
            "align_self": null,
            "height": null,
            "min_height": null,
            "padding": null,
            "grid_auto_rows": null,
            "grid_gap": null,
            "max_width": null,
            "order": null,
            "_view_module_version": "1.2.0",
            "grid_template_areas": null,
            "object_position": null,
            "object_fit": null,
            "grid_auto_columns": null,
            "margin": null,
            "display": null,
            "left": null
          }
        }
      }
    },
    "accelerator": "TPU"
  },
  "cells": [
    {
      "cell_type": "code",
      "metadata": {
        "_cell_guid": "b1076dfc-b9ad-4769-8c92-a6c4dae69d19",
        "_uuid": "8f2839f25d086af736a60e9eeb907d3b93b6e0e5",
        "tags": [],
        "id": "ko8ao1Zdx-Ep"
      },
      "source": [
        "from sklearn import preprocessing, pipeline\n",
        "from sklearn import decomposition, cluster\n",
        "from IPython.display import display\n",
        "import numpy as np\n",
        "import pandas as pd\n",
        "import sqlite3 as sq\n",
        "import matplotlib.pyplot as plt\n",
        "import seaborn as sns\n",
        "import gc\n",
        "import joblib as jb\n",
        "from tqdm.auto import tqdm, trange\n",
        "import os"
      ],
      "execution_count": 5,
      "outputs": []
    },
    {
      "cell_type": "code",
      "metadata": {
        "colab": {
          "base_uri": "https://localhost:8080/"
        },
        "id": "OztKM5fs3J8a",
        "outputId": "bd4db593-d2bd-4d77-fa00-8ffdd94dfc5b"
      },
      "source": [
        "%rm -rf encoders2/  \n",
        "%rm -rf encoders2/  \n",
        "%rm -rf encoders2/  \n",
        "%rm -rf encoders2/  \n",
        "%rm -rf encoders2/  \n",
        "\n",
        "%rm -rf estimators/  \n",
        "%rm -rf estimators2/\n",
        "%rm -rf estimators3/\n",
        "%rm -rf estimators4/\n",
        "%rm -rf estimators5/\n",
        "\n",
        "%rm cluster_centers1.csv\n",
        "%rm cluster_centers2.csv\n",
        "%rm cluster_centers3.csv\n",
        "%rm cluster_centers.csv\n",
        "\n",
        "%rm collision_counts.csv\n",
        "%rm collision_counts1.csv\n",
        "%rm collision_counts2.csv\n",
        "%rm collision_counts3.csv\n",
        "\n",
        "\n",
        "\n",
        "%rm cluster_counts.csv\n",
        "%rm cluster_counts1.csv\n",
        "%rm cluster_counts2.csv\n",
        "%rm cluster_counts3.csv\n",
        "\n",
        "\n"
      ],
      "execution_count": 6,
      "outputs": [
        {
          "output_type": "stream",
          "name": "stdout",
          "text": [
            "rm: cannot remove 'cluster_centers1.csv': No such file or directory\n",
            "rm: cannot remove 'cluster_centers2.csv': No such file or directory\n",
            "rm: cannot remove 'cluster_centers3.csv': No such file or directory\n",
            "rm: cannot remove 'cluster_centers.csv': No such file or directory\n",
            "rm: cannot remove 'collision_counts.csv': No such file or directory\n",
            "rm: cannot remove 'collision_counts1.csv': No such file or directory\n",
            "rm: cannot remove 'collision_counts2.csv': No such file or directory\n",
            "rm: cannot remove 'collision_counts3.csv': No such file or directory\n",
            "rm: cannot remove 'cluster_counts.csv': No such file or directory\n",
            "rm: cannot remove 'cluster_counts1.csv': No such file or directory\n",
            "rm: cannot remove 'cluster_counts2.csv': No such file or directory\n",
            "rm: cannot remove 'cluster_counts3.csv': No such file or directory\n"
          ]
        }
      ]
    },
    {
      "cell_type": "code",
      "metadata": {
        "id": "VtB9A2Qx3J5C"
      },
      "source": [
        ""
      ],
      "execution_count": 6,
      "outputs": []
    },
    {
      "cell_type": "markdown",
      "metadata": {
        "id": "EoGj2nlbx-Ev"
      },
      "source": [
        "# Introduction"
      ]
    },
    {
      "cell_type": "markdown",
      "metadata": {
        "id": "TRYUd9MUx-Ew"
      },
      "source": [
        "This notebook aims to clusterize motorcycles' collisions entries and confront them with motorcycle make information.\n",
        "\n",
        "First `collisions` and `parties` tables are read excluding descriptive features.\n",
        "Then they are preprocessed filling missing values and encoding categorical features.\n",
        "Eventually different tables' information are merged together to build a single table."
      ]
    },
    {
      "cell_type": "markdown",
      "metadata": {
        "id": "5v3_pTr0x-Ex"
      },
      "source": [
        "# Data preprocessing"
      ]
    },
    {
      "cell_type": "code",
      "metadata": {
        "id": "rovcmURHyCfR"
      },
      "source": [
        "import sqlite3 as sql"
      ],
      "execution_count": 7,
      "outputs": []
    },
    {
      "cell_type": "code",
      "metadata": {
        "colab": {
          "base_uri": "https://localhost:8080/"
        },
        "id": "PIrnOk3SyDi7",
        "outputId": "0e2690ac-96bf-42ff-9414-cdccefb5312d"
      },
      "source": [
        "from google.colab import drive\n",
        "drive.mount('/content/drive')"
      ],
      "execution_count": 8,
      "outputs": [
        {
          "output_type": "stream",
          "name": "stdout",
          "text": [
            "Mounted at /content/drive\n"
          ]
        }
      ]
    },
    {
      "cell_type": "code",
      "metadata": {
        "tags": [],
        "id": "XBN9yYUKx-Ey"
      },
      "source": [
        "con = sql.connect(\"/content/drive/MyDrive/switrs.sqlite/switrs.sqlite\")\n",
        "cur = con.cursor()"
      ],
      "execution_count": 9,
      "outputs": []
    },
    {
      "cell_type": "code",
      "metadata": {
        "tags": [],
        "colab": {
          "base_uri": "https://localhost:8080/"
        },
        "id": "59vASQUXx-Ez",
        "outputId": "0b0d0e5b-5943-48af-efa4-a28eec302fda"
      },
      "source": [
        "tables = [name[0] for name in cur.execute(\"SELECT name FROM sqlite_master\")]\n",
        "print(\"Tables:\")\n",
        "print(tables)"
      ],
      "execution_count": 10,
      "outputs": [
        {
          "output_type": "stream",
          "name": "stdout",
          "text": [
            "Tables:\n",
            "['case_ids', 'collisions', 'victims', 'parties']\n"
          ]
        }
      ]
    },
    {
      "cell_type": "code",
      "metadata": {
        "tags": [],
        "colab": {
          "base_uri": "https://localhost:8080/"
        },
        "id": "vWty7cD_x-E0",
        "outputId": "441156c3-d08d-44ff-b843-ff07aa5573cd"
      },
      "source": [
        "tables = [\"collisions\", \"parties\"]\n",
        "print(\"Used tables: \")\n",
        "print(tables)"
      ],
      "execution_count": 11,
      "outputs": [
        {
          "output_type": "stream",
          "name": "stdout",
          "text": [
            "Used tables: \n",
            "['collisions', 'parties']\n"
          ]
        }
      ]
    },
    {
      "cell_type": "code",
      "metadata": {
        "tags": [],
        "colab": {
          "base_uri": "https://localhost:8080/",
          "height": 1000
        },
        "id": "subzJW3Hx-E1",
        "outputId": "d4c5396d-86c1-41d5-cbbe-5506b86029bd"
      },
      "source": [
        "cols = {table: list(map(lambda x: x[0], cur.execute(\"SELECT * FROM {}\".format(table)).description)) for table in tables}\n",
        "# print(\"Features of :\")\n",
        "for key,val in cols.items():\n",
        "    print(\"Total features in \"+ key +\" table\")\n",
        "    display(val)\n",
        "    print()"
      ],
      "execution_count": 12,
      "outputs": [
        {
          "output_type": "stream",
          "name": "stdout",
          "text": [
            "Total features in collisions table\n"
          ]
        },
        {
          "output_type": "display_data",
          "data": {
            "text/plain": [
              "['case_id',\n",
              " 'jurisdiction',\n",
              " 'officer_id',\n",
              " 'reporting_district',\n",
              " 'chp_shift',\n",
              " 'population',\n",
              " 'county_city_location',\n",
              " 'county_location',\n",
              " 'special_condition',\n",
              " 'beat_type',\n",
              " 'chp_beat_type',\n",
              " 'city_division_lapd',\n",
              " 'chp_beat_class',\n",
              " 'beat_number',\n",
              " 'primary_road',\n",
              " 'secondary_road',\n",
              " 'distance',\n",
              " 'direction',\n",
              " 'intersection',\n",
              " 'weather_1',\n",
              " 'weather_2',\n",
              " 'state_highway_indicator',\n",
              " 'caltrans_county',\n",
              " 'caltrans_district',\n",
              " 'state_route',\n",
              " 'route_suffix',\n",
              " 'postmile_prefix',\n",
              " 'postmile',\n",
              " 'location_type',\n",
              " 'ramp_intersection',\n",
              " 'side_of_highway',\n",
              " 'tow_away',\n",
              " 'collision_severity',\n",
              " 'killed_victims',\n",
              " 'injured_victims',\n",
              " 'party_count',\n",
              " 'primary_collision_factor',\n",
              " 'pcf_violation_code',\n",
              " 'pcf_violation_category',\n",
              " 'pcf_violation',\n",
              " 'pcf_violation_subsection',\n",
              " 'hit_and_run',\n",
              " 'type_of_collision',\n",
              " 'motor_vehicle_involved_with',\n",
              " 'pedestrian_action',\n",
              " 'road_surface',\n",
              " 'road_condition_1',\n",
              " 'road_condition_2',\n",
              " 'lighting',\n",
              " 'control_device',\n",
              " 'chp_road_type',\n",
              " 'pedestrian_collision',\n",
              " 'bicycle_collision',\n",
              " 'motorcycle_collision',\n",
              " 'truck_collision',\n",
              " 'not_private_property',\n",
              " 'alcohol_involved',\n",
              " 'statewide_vehicle_type_at_fault',\n",
              " 'chp_vehicle_type_at_fault',\n",
              " 'severe_injury_count',\n",
              " 'other_visible_injury_count',\n",
              " 'complaint_of_pain_injury_count',\n",
              " 'pedestrian_killed_count',\n",
              " 'pedestrian_injured_count',\n",
              " 'bicyclist_killed_count',\n",
              " 'bicyclist_injured_count',\n",
              " 'motorcyclist_killed_count',\n",
              " 'motorcyclist_injured_count',\n",
              " 'primary_ramp',\n",
              " 'secondary_ramp',\n",
              " 'latitude',\n",
              " 'longitude',\n",
              " 'collision_date',\n",
              " 'collision_time',\n",
              " 'process_date']"
            ]
          },
          "metadata": {}
        },
        {
          "output_type": "stream",
          "name": "stdout",
          "text": [
            "\n",
            "Total features in parties table\n"
          ]
        },
        {
          "output_type": "display_data",
          "data": {
            "text/plain": [
              "['id',\n",
              " 'case_id',\n",
              " 'party_number',\n",
              " 'party_type',\n",
              " 'at_fault',\n",
              " 'party_sex',\n",
              " 'party_age',\n",
              " 'party_sobriety',\n",
              " 'party_drug_physical',\n",
              " 'direction_of_travel',\n",
              " 'party_safety_equipment_1',\n",
              " 'party_safety_equipment_2',\n",
              " 'financial_responsibility',\n",
              " 'hazardous_materials',\n",
              " 'cellphone_in_use',\n",
              " 'cellphone_use_type',\n",
              " 'school_bus_related',\n",
              " 'oaf_violation_code',\n",
              " 'oaf_violation_category',\n",
              " 'oaf_violation_section',\n",
              " 'oaf_violation_suffix',\n",
              " 'other_associate_factor_1',\n",
              " 'other_associate_factor_2',\n",
              " 'party_number_killed',\n",
              " 'party_number_injured',\n",
              " 'movement_preceding_collision',\n",
              " 'vehicle_year',\n",
              " 'vehicle_make',\n",
              " 'statewide_vehicle_type',\n",
              " 'chp_vehicle_type_towing',\n",
              " 'chp_vehicle_type_towed',\n",
              " 'party_race']"
            ]
          },
          "metadata": {}
        },
        {
          "output_type": "stream",
          "name": "stdout",
          "text": [
            "\n"
          ]
        }
      ]
    },
    {
      "cell_type": "code",
      "metadata": {
        "tags": [],
        "colab": {
          "base_uri": "https://localhost:8080/",
          "height": 1000
        },
        "id": "h-U3itgAx-E2",
        "outputId": "3d0ea6a0-2c93-44a3-b201-2a10287e8c42"
      },
      "source": [
        "#Excluding the trivial features\n",
        "cols = {\n",
        "    \"collisions\":\n",
        "    [\n",
        "        \"case_id\",\n",
        "        #\"jurisdiction\",\n",
        "        #\"officer_id\",\n",
        "        #\"reporting_district\",\n",
        "        #\"chp_shift\",\n",
        "        #\"population\",\n",
        "        \"county_city_location\",\n",
        "        #\"county_location\",\n",
        "        \"special_condition\",\n",
        "        \"beat_type\",\n",
        "        \"chp_beat_type\",\n",
        "        \"city_division_lapd\",\n",
        "        \"chp_beat_class\",\n",
        "        \"beat_number\",\n",
        "        \"primary_road\",\n",
        "        \"secondary_road\",\n",
        "        \"distance\",\n",
        "        \"direction\",\n",
        "        \"intersection\",\n",
        "        \"weather_1\",\n",
        "        \"weather_2\",\n",
        "        \"state_highway_indicator\",\n",
        "        \"caltrans_county\",\n",
        "        \"caltrans_district\",\n",
        "        \"state_route\",\n",
        "        \"route_suffix\",\n",
        "        \"postmile_prefix\",\n",
        "        \"postmile\",\n",
        "        \"location_type\",\n",
        "        \"ramp_intersection\",\n",
        "        \"side_of_highway\",\n",
        "        \"tow_away\",\n",
        "        \"collision_severity\",\n",
        "        \"killed_victims\",\n",
        "        \"injured_victims\",\n",
        "        \"party_count\",\n",
        "        \"primary_collision_factor\",\n",
        "        \"pcf_violation_code\",\n",
        "        \"pcf_violation_category\",\n",
        "        \"pcf_violation\",\n",
        "        \"pcf_violation_subsection\",\n",
        "        \"hit_and_run\",\n",
        "        \"type_of_collision\",\n",
        "        \"motor_vehicle_involved_with\",\n",
        "        \"pedestrian_action\",\n",
        "        \"road_surface\",\n",
        "        \"road_condition_1\",\n",
        "        \"road_condition_2\",\n",
        "        \"lighting\",\n",
        "        \"control_device\",\n",
        "        \"chp_road_type\",\n",
        "        \"pedestrian_collision\",\n",
        "        \"bicycle_collision\",\n",
        "        \"motorcycle_collision\",\n",
        "        \"truck_collision\",\n",
        "        \"not_private_property\",\n",
        "        \"alcohol_involved\",\n",
        "        \"statewide_vehicle_type_at_fault\",\n",
        "        \"chp_vehicle_type_at_fault\",\n",
        "        \"severe_injury_count\",\n",
        "        \"other_visible_injury_count\",\n",
        "        \"complaint_of_pain_injury_count\",\n",
        "        \"pedestrian_killed_count\",\n",
        "        \"pedestrian_injured_count\",\n",
        "        \"bicyclist_killed_count\",\n",
        "        \"bicyclist_injured_count\",\n",
        "        \"motorcyclist_killed_count\",\n",
        "        \"motorcyclist_injured_count\",\n",
        "        \"primary_ramp\",\n",
        "        \"secondary_ramp\",\n",
        "        \"latitude\",\n",
        "        \"longitude\",\n",
        "        \"collision_date\",\n",
        "        \"collision_time\",\n",
        "        #\"process_date\"\n",
        "    ],\n",
        "    \n",
        "    \"parties\":\n",
        "    [\n",
        "        #\"id\",\n",
        "        \"case_id\",\n",
        "        \"party_number\",\n",
        "        \"party_type\",\n",
        "        \"at_fault\",\n",
        "        \"party_sex\",\n",
        "        \"party_age\",\n",
        "        \"party_sobriety\",\n",
        "        \"party_drug_physical\",\n",
        "        \"direction_of_travel\",\n",
        "        \"party_safety_equipment_1\",\n",
        "        \"party_safety_equipment_2\",\n",
        "        \"financial_responsibility\",\n",
        "        \"hazardous_materials\",\n",
        "        #\"cellphone_in_use\",\n",
        "        #\"cellphone_use_type\",\n",
        "        \"school_bus_related\",\n",
        "        \"oaf_violation_code\",\n",
        "        \"oaf_violation_category\",\n",
        "        \"oaf_violation_section\",\n",
        "        \"oaf_violation_suffix\",\n",
        "        \"other_associate_factor_1\",\n",
        "        \"other_associate_factor_2\",\n",
        "        \"party_number_killed\",\n",
        "        \"party_number_injured\",\n",
        "        \"movement_preceding_collision\",\n",
        "        \"vehicle_year\",\n",
        "        \"vehicle_make\",\n",
        "        #\"statewide_vehicle_type\",\n",
        "        #\"chp_vehicle_type_towing\",\n",
        "        #\"chp_vehicle_type_towed\",\n",
        "        \"party_race\"\n",
        "    ]\n",
        "}\n",
        "\n",
        "for key,val in cols.items():\n",
        "    print(\"Relevant features in \" + key + \" table\")\n",
        "    display(val)\n",
        "    print()"
      ],
      "execution_count": 13,
      "outputs": [
        {
          "output_type": "stream",
          "name": "stdout",
          "text": [
            "Relevant features in collisions table\n"
          ]
        },
        {
          "output_type": "display_data",
          "data": {
            "text/plain": [
              "['case_id',\n",
              " 'county_city_location',\n",
              " 'special_condition',\n",
              " 'beat_type',\n",
              " 'chp_beat_type',\n",
              " 'city_division_lapd',\n",
              " 'chp_beat_class',\n",
              " 'beat_number',\n",
              " 'primary_road',\n",
              " 'secondary_road',\n",
              " 'distance',\n",
              " 'direction',\n",
              " 'intersection',\n",
              " 'weather_1',\n",
              " 'weather_2',\n",
              " 'state_highway_indicator',\n",
              " 'caltrans_county',\n",
              " 'caltrans_district',\n",
              " 'state_route',\n",
              " 'route_suffix',\n",
              " 'postmile_prefix',\n",
              " 'postmile',\n",
              " 'location_type',\n",
              " 'ramp_intersection',\n",
              " 'side_of_highway',\n",
              " 'tow_away',\n",
              " 'collision_severity',\n",
              " 'killed_victims',\n",
              " 'injured_victims',\n",
              " 'party_count',\n",
              " 'primary_collision_factor',\n",
              " 'pcf_violation_code',\n",
              " 'pcf_violation_category',\n",
              " 'pcf_violation',\n",
              " 'pcf_violation_subsection',\n",
              " 'hit_and_run',\n",
              " 'type_of_collision',\n",
              " 'motor_vehicle_involved_with',\n",
              " 'pedestrian_action',\n",
              " 'road_surface',\n",
              " 'road_condition_1',\n",
              " 'road_condition_2',\n",
              " 'lighting',\n",
              " 'control_device',\n",
              " 'chp_road_type',\n",
              " 'pedestrian_collision',\n",
              " 'bicycle_collision',\n",
              " 'motorcycle_collision',\n",
              " 'truck_collision',\n",
              " 'not_private_property',\n",
              " 'alcohol_involved',\n",
              " 'statewide_vehicle_type_at_fault',\n",
              " 'chp_vehicle_type_at_fault',\n",
              " 'severe_injury_count',\n",
              " 'other_visible_injury_count',\n",
              " 'complaint_of_pain_injury_count',\n",
              " 'pedestrian_killed_count',\n",
              " 'pedestrian_injured_count',\n",
              " 'bicyclist_killed_count',\n",
              " 'bicyclist_injured_count',\n",
              " 'motorcyclist_killed_count',\n",
              " 'motorcyclist_injured_count',\n",
              " 'primary_ramp',\n",
              " 'secondary_ramp',\n",
              " 'latitude',\n",
              " 'longitude',\n",
              " 'collision_date',\n",
              " 'collision_time']"
            ]
          },
          "metadata": {}
        },
        {
          "output_type": "stream",
          "name": "stdout",
          "text": [
            "\n",
            "Relevant features in parties table\n"
          ]
        },
        {
          "output_type": "display_data",
          "data": {
            "text/plain": [
              "['case_id',\n",
              " 'party_number',\n",
              " 'party_type',\n",
              " 'at_fault',\n",
              " 'party_sex',\n",
              " 'party_age',\n",
              " 'party_sobriety',\n",
              " 'party_drug_physical',\n",
              " 'direction_of_travel',\n",
              " 'party_safety_equipment_1',\n",
              " 'party_safety_equipment_2',\n",
              " 'financial_responsibility',\n",
              " 'hazardous_materials',\n",
              " 'school_bus_related',\n",
              " 'oaf_violation_code',\n",
              " 'oaf_violation_category',\n",
              " 'oaf_violation_section',\n",
              " 'oaf_violation_suffix',\n",
              " 'other_associate_factor_1',\n",
              " 'other_associate_factor_2',\n",
              " 'party_number_killed',\n",
              " 'party_number_injured',\n",
              " 'movement_preceding_collision',\n",
              " 'vehicle_year',\n",
              " 'vehicle_make',\n",
              " 'party_race']"
            ]
          },
          "metadata": {}
        },
        {
          "output_type": "stream",
          "name": "stdout",
          "text": [
            "\n"
          ]
        }
      ]
    },
    {
      "cell_type": "markdown",
      "metadata": {
        "id": "3H3XLfOax-E4"
      },
      "source": [
        "Now `collisions` table is read."
      ]
    },
    {
      "cell_type": "code",
      "metadata": {
        "tags": [],
        "colab": {
          "base_uri": "https://localhost:8080/",
          "height": 347
        },
        "id": "4mXyUszex-E5",
        "outputId": "da38fafb-0a9a-4302-e2de-e0c997a16c70"
      },
      "source": [
        "def convert_list(L):\n",
        "    A = \"\"\n",
        "    for x in L:\n",
        "        A += x + \", \"\n",
        "    A = A[:-2]\n",
        "    return A\n",
        "\n",
        "df = {}\n",
        "\n",
        "#Selecting records in collisions where a motorcycle was involved\n",
        "motorcycle_collisions = \"SELECT \" + convert_list(cols[\"collisions\"]) + \" FROM collisions WHERE motorcycle_collision=1\"\n",
        "df[\"collisions\"] = pd.DataFrame([list(x) for x in cur.execute(motorcycle_collisions)], columns=cols[\"collisions\"])\n",
        "\n",
        "print(\"Records in collisions table: {}\".format(df[\"collisions\"].shape[0]))\n",
        "print(\"Features in collisions table: {}\".format(df[\"collisions\"].shape[1]))\n",
        "display(df[\"collisions\"].head())"
      ],
      "execution_count": 14,
      "outputs": [
        {
          "output_type": "stream",
          "name": "stdout",
          "text": [
            "Records in collisions table: 278684\n",
            "Features in collisions table: 68\n"
          ]
        },
        {
          "output_type": "display_data",
          "data": {
            "text/html": [
              "<div>\n",
              "<style scoped>\n",
              "    .dataframe tbody tr th:only-of-type {\n",
              "        vertical-align: middle;\n",
              "    }\n",
              "\n",
              "    .dataframe tbody tr th {\n",
              "        vertical-align: top;\n",
              "    }\n",
              "\n",
              "    .dataframe thead th {\n",
              "        text-align: right;\n",
              "    }\n",
              "</style>\n",
              "<table border=\"1\" class=\"dataframe\">\n",
              "  <thead>\n",
              "    <tr style=\"text-align: right;\">\n",
              "      <th></th>\n",
              "      <th>case_id</th>\n",
              "      <th>county_city_location</th>\n",
              "      <th>special_condition</th>\n",
              "      <th>beat_type</th>\n",
              "      <th>chp_beat_type</th>\n",
              "      <th>city_division_lapd</th>\n",
              "      <th>chp_beat_class</th>\n",
              "      <th>beat_number</th>\n",
              "      <th>primary_road</th>\n",
              "      <th>secondary_road</th>\n",
              "      <th>distance</th>\n",
              "      <th>direction</th>\n",
              "      <th>intersection</th>\n",
              "      <th>weather_1</th>\n",
              "      <th>weather_2</th>\n",
              "      <th>state_highway_indicator</th>\n",
              "      <th>caltrans_county</th>\n",
              "      <th>caltrans_district</th>\n",
              "      <th>state_route</th>\n",
              "      <th>route_suffix</th>\n",
              "      <th>postmile_prefix</th>\n",
              "      <th>postmile</th>\n",
              "      <th>location_type</th>\n",
              "      <th>ramp_intersection</th>\n",
              "      <th>side_of_highway</th>\n",
              "      <th>tow_away</th>\n",
              "      <th>collision_severity</th>\n",
              "      <th>killed_victims</th>\n",
              "      <th>injured_victims</th>\n",
              "      <th>party_count</th>\n",
              "      <th>primary_collision_factor</th>\n",
              "      <th>pcf_violation_code</th>\n",
              "      <th>pcf_violation_category</th>\n",
              "      <th>pcf_violation</th>\n",
              "      <th>pcf_violation_subsection</th>\n",
              "      <th>hit_and_run</th>\n",
              "      <th>type_of_collision</th>\n",
              "      <th>motor_vehicle_involved_with</th>\n",
              "      <th>pedestrian_action</th>\n",
              "      <th>road_surface</th>\n",
              "      <th>road_condition_1</th>\n",
              "      <th>road_condition_2</th>\n",
              "      <th>lighting</th>\n",
              "      <th>control_device</th>\n",
              "      <th>chp_road_type</th>\n",
              "      <th>pedestrian_collision</th>\n",
              "      <th>bicycle_collision</th>\n",
              "      <th>motorcycle_collision</th>\n",
              "      <th>truck_collision</th>\n",
              "      <th>not_private_property</th>\n",
              "      <th>alcohol_involved</th>\n",
              "      <th>statewide_vehicle_type_at_fault</th>\n",
              "      <th>chp_vehicle_type_at_fault</th>\n",
              "      <th>severe_injury_count</th>\n",
              "      <th>other_visible_injury_count</th>\n",
              "      <th>complaint_of_pain_injury_count</th>\n",
              "      <th>pedestrian_killed_count</th>\n",
              "      <th>pedestrian_injured_count</th>\n",
              "      <th>bicyclist_killed_count</th>\n",
              "      <th>bicyclist_injured_count</th>\n",
              "      <th>motorcyclist_killed_count</th>\n",
              "      <th>motorcyclist_injured_count</th>\n",
              "      <th>primary_ramp</th>\n",
              "      <th>secondary_ramp</th>\n",
              "      <th>latitude</th>\n",
              "      <th>longitude</th>\n",
              "      <th>collision_date</th>\n",
              "      <th>collision_time</th>\n",
              "    </tr>\n",
              "  </thead>\n",
              "  <tbody>\n",
              "    <tr>\n",
              "      <th>0</th>\n",
              "      <td>3982906</td>\n",
              "      <td>1972</td>\n",
              "      <td>0</td>\n",
              "      <td>not chp</td>\n",
              "      <td>not chp</td>\n",
              "      <td>None</td>\n",
              "      <td>not chp</td>\n",
              "      <td>None</td>\n",
              "      <td>SEPULVEDA</td>\n",
              "      <td>HICKORY</td>\n",
              "      <td>0.0</td>\n",
              "      <td>None</td>\n",
              "      <td>1.0</td>\n",
              "      <td>clear</td>\n",
              "      <td>None</td>\n",
              "      <td>0.0</td>\n",
              "      <td>None</td>\n",
              "      <td>NaN</td>\n",
              "      <td>NaN</td>\n",
              "      <td>None</td>\n",
              "      <td>None</td>\n",
              "      <td>NaN</td>\n",
              "      <td>None</td>\n",
              "      <td>None</td>\n",
              "      <td>None</td>\n",
              "      <td>1.0</td>\n",
              "      <td>severe injury</td>\n",
              "      <td>0.0</td>\n",
              "      <td>1.0</td>\n",
              "      <td>2</td>\n",
              "      <td>vehicle code violation</td>\n",
              "      <td>None</td>\n",
              "      <td>automobile right of way</td>\n",
              "      <td>21801.0</td>\n",
              "      <td>A</td>\n",
              "      <td>not hit and run</td>\n",
              "      <td>broadside</td>\n",
              "      <td>other motor vehicle</td>\n",
              "      <td>no pedestrian involved</td>\n",
              "      <td>dry</td>\n",
              "      <td>normal</td>\n",
              "      <td>None</td>\n",
              "      <td>daylight</td>\n",
              "      <td>functioning</td>\n",
              "      <td>0</td>\n",
              "      <td>0</td>\n",
              "      <td>0</td>\n",
              "      <td>1</td>\n",
              "      <td>0</td>\n",
              "      <td>1</td>\n",
              "      <td>1.0</td>\n",
              "      <td>passenger car</td>\n",
              "      <td>None</td>\n",
              "      <td>1</td>\n",
              "      <td>0</td>\n",
              "      <td>0</td>\n",
              "      <td>0</td>\n",
              "      <td>0</td>\n",
              "      <td>0</td>\n",
              "      <td>0</td>\n",
              "      <td>0</td>\n",
              "      <td>1</td>\n",
              "      <td>None</td>\n",
              "      <td>None</td>\n",
              "      <td>NaN</td>\n",
              "      <td>NaN</td>\n",
              "      <td>2009-01-12</td>\n",
              "      <td>17:10:00</td>\n",
              "    </tr>\n",
              "    <tr>\n",
              "      <th>1</th>\n",
              "      <td>3984246</td>\n",
              "      <td>3607</td>\n",
              "      <td>0</td>\n",
              "      <td>chp state highway</td>\n",
              "      <td>interstate</td>\n",
              "      <td>None</td>\n",
              "      <td>chp other</td>\n",
              "      <td>103</td>\n",
              "      <td>RT 10</td>\n",
              "      <td>4TH ST</td>\n",
              "      <td>51.0</td>\n",
              "      <td>south</td>\n",
              "      <td>0.0</td>\n",
              "      <td>clear</td>\n",
              "      <td>None</td>\n",
              "      <td>1.0</td>\n",
              "      <td>san bernardino</td>\n",
              "      <td>8.0</td>\n",
              "      <td>10.0</td>\n",
              "      <td>None</td>\n",
              "      <td>None</td>\n",
              "      <td>5.391</td>\n",
              "      <td>ramp</td>\n",
              "      <td>ramp exit, last 50 feet</td>\n",
              "      <td>westbound</td>\n",
              "      <td>1.0</td>\n",
              "      <td>fatal</td>\n",
              "      <td>1.0</td>\n",
              "      <td>0.0</td>\n",
              "      <td>2</td>\n",
              "      <td>vehicle code violation</td>\n",
              "      <td>None</td>\n",
              "      <td>speeding</td>\n",
              "      <td>22350.0</td>\n",
              "      <td>None</td>\n",
              "      <td>not hit and run</td>\n",
              "      <td>hit object</td>\n",
              "      <td>fixed object</td>\n",
              "      <td>no pedestrian involved</td>\n",
              "      <td>dry</td>\n",
              "      <td>normal</td>\n",
              "      <td>None</td>\n",
              "      <td>daylight</td>\n",
              "      <td>functioning</td>\n",
              "      <td>1</td>\n",
              "      <td>0</td>\n",
              "      <td>0</td>\n",
              "      <td>1</td>\n",
              "      <td>0</td>\n",
              "      <td>1</td>\n",
              "      <td>NaN</td>\n",
              "      <td>motorcycle or scooter</td>\n",
              "      <td>motorcycle</td>\n",
              "      <td>0</td>\n",
              "      <td>0</td>\n",
              "      <td>0</td>\n",
              "      <td>0</td>\n",
              "      <td>0</td>\n",
              "      <td>0</td>\n",
              "      <td>0</td>\n",
              "      <td>1</td>\n",
              "      <td>0</td>\n",
              "      <td>TO</td>\n",
              "      <td>None</td>\n",
              "      <td>NaN</td>\n",
              "      <td>NaN</td>\n",
              "      <td>2009-01-11</td>\n",
              "      <td>13:02:00</td>\n",
              "    </tr>\n",
              "    <tr>\n",
              "      <th>2</th>\n",
              "      <td>3984329</td>\n",
              "      <td>2000</td>\n",
              "      <td>0</td>\n",
              "      <td>chp county roadline</td>\n",
              "      <td>county road line</td>\n",
              "      <td>None</td>\n",
              "      <td>chp other</td>\n",
              "      <td>044</td>\n",
              "      <td>COUNTY ROAD 145</td>\n",
              "      <td>RT 41</td>\n",
              "      <td>7392.0</td>\n",
              "      <td>east</td>\n",
              "      <td>0.0</td>\n",
              "      <td>cloudy</td>\n",
              "      <td>None</td>\n",
              "      <td>0.0</td>\n",
              "      <td>None</td>\n",
              "      <td>NaN</td>\n",
              "      <td>NaN</td>\n",
              "      <td>None</td>\n",
              "      <td>None</td>\n",
              "      <td>NaN</td>\n",
              "      <td>None</td>\n",
              "      <td>None</td>\n",
              "      <td>None</td>\n",
              "      <td>1.0</td>\n",
              "      <td>fatal</td>\n",
              "      <td>1.0</td>\n",
              "      <td>1.0</td>\n",
              "      <td>2</td>\n",
              "      <td>vehicle code violation</td>\n",
              "      <td>None</td>\n",
              "      <td>wrong side of road</td>\n",
              "      <td>21460.0</td>\n",
              "      <td>A</td>\n",
              "      <td>not hit and run</td>\n",
              "      <td>head-on</td>\n",
              "      <td>other motor vehicle</td>\n",
              "      <td>no pedestrian involved</td>\n",
              "      <td>dry</td>\n",
              "      <td>normal</td>\n",
              "      <td>None</td>\n",
              "      <td>daylight</td>\n",
              "      <td>none</td>\n",
              "      <td>0</td>\n",
              "      <td>0</td>\n",
              "      <td>0</td>\n",
              "      <td>1</td>\n",
              "      <td>0</td>\n",
              "      <td>1</td>\n",
              "      <td>NaN</td>\n",
              "      <td>motorcycle or scooter</td>\n",
              "      <td>motorcycle</td>\n",
              "      <td>0</td>\n",
              "      <td>0</td>\n",
              "      <td>1</td>\n",
              "      <td>0</td>\n",
              "      <td>0</td>\n",
              "      <td>0</td>\n",
              "      <td>0</td>\n",
              "      <td>1</td>\n",
              "      <td>0</td>\n",
              "      <td>None</td>\n",
              "      <td>None</td>\n",
              "      <td>37.01290</td>\n",
              "      <td>-119.76988</td>\n",
              "      <td>2009-01-01</td>\n",
              "      <td>13:45:00</td>\n",
              "    </tr>\n",
              "    <tr>\n",
              "      <th>3</th>\n",
              "      <td>3984352</td>\n",
              "      <td>1942</td>\n",
              "      <td>0</td>\n",
              "      <td>not chp</td>\n",
              "      <td>not chp</td>\n",
              "      <td>None</td>\n",
              "      <td>not chp</td>\n",
              "      <td>6T7</td>\n",
              "      <td>HARVARD BL</td>\n",
              "      <td>3RD ST</td>\n",
              "      <td>0.0</td>\n",
              "      <td>None</td>\n",
              "      <td>1.0</td>\n",
              "      <td>clear</td>\n",
              "      <td>None</td>\n",
              "      <td>0.0</td>\n",
              "      <td>None</td>\n",
              "      <td>NaN</td>\n",
              "      <td>NaN</td>\n",
              "      <td>None</td>\n",
              "      <td>None</td>\n",
              "      <td>NaN</td>\n",
              "      <td>None</td>\n",
              "      <td>None</td>\n",
              "      <td>None</td>\n",
              "      <td>1.0</td>\n",
              "      <td>fatal</td>\n",
              "      <td>1.0</td>\n",
              "      <td>0.0</td>\n",
              "      <td>2</td>\n",
              "      <td>vehicle code violation</td>\n",
              "      <td>None</td>\n",
              "      <td>automobile right of way</td>\n",
              "      <td>21802.0</td>\n",
              "      <td>A</td>\n",
              "      <td>not hit and run</td>\n",
              "      <td>broadside</td>\n",
              "      <td>other motor vehicle</td>\n",
              "      <td>no pedestrian involved</td>\n",
              "      <td>dry</td>\n",
              "      <td>normal</td>\n",
              "      <td>None</td>\n",
              "      <td>daylight</td>\n",
              "      <td>functioning</td>\n",
              "      <td>0</td>\n",
              "      <td>0</td>\n",
              "      <td>0</td>\n",
              "      <td>1</td>\n",
              "      <td>0</td>\n",
              "      <td>1</td>\n",
              "      <td>NaN</td>\n",
              "      <td>passenger car</td>\n",
              "      <td>passenger car, station</td>\n",
              "      <td>0</td>\n",
              "      <td>0</td>\n",
              "      <td>0</td>\n",
              "      <td>0</td>\n",
              "      <td>0</td>\n",
              "      <td>0</td>\n",
              "      <td>0</td>\n",
              "      <td>1</td>\n",
              "      <td>0</td>\n",
              "      <td>None</td>\n",
              "      <td>None</td>\n",
              "      <td>NaN</td>\n",
              "      <td>NaN</td>\n",
              "      <td>2009-01-11</td>\n",
              "      <td>14:50:00</td>\n",
              "    </tr>\n",
              "    <tr>\n",
              "      <th>4</th>\n",
              "      <td>3984398</td>\n",
              "      <td>3400</td>\n",
              "      <td>0</td>\n",
              "      <td>chp county roadline</td>\n",
              "      <td>county road line</td>\n",
              "      <td>None</td>\n",
              "      <td>chp other</td>\n",
              "      <td>073</td>\n",
              "      <td>GERBER RD</td>\n",
              "      <td>COUNTRY PARK DR</td>\n",
              "      <td>85.0</td>\n",
              "      <td>west</td>\n",
              "      <td>0.0</td>\n",
              "      <td>clear</td>\n",
              "      <td>None</td>\n",
              "      <td>0.0</td>\n",
              "      <td>None</td>\n",
              "      <td>NaN</td>\n",
              "      <td>NaN</td>\n",
              "      <td>None</td>\n",
              "      <td>None</td>\n",
              "      <td>NaN</td>\n",
              "      <td>None</td>\n",
              "      <td>None</td>\n",
              "      <td>None</td>\n",
              "      <td>1.0</td>\n",
              "      <td>fatal</td>\n",
              "      <td>1.0</td>\n",
              "      <td>0.0</td>\n",
              "      <td>2</td>\n",
              "      <td>vehicle code violation</td>\n",
              "      <td>None</td>\n",
              "      <td>speeding</td>\n",
              "      <td>22350.0</td>\n",
              "      <td>None</td>\n",
              "      <td>not hit and run</td>\n",
              "      <td>broadside</td>\n",
              "      <td>other motor vehicle</td>\n",
              "      <td>no pedestrian involved</td>\n",
              "      <td>dry</td>\n",
              "      <td>normal</td>\n",
              "      <td>None</td>\n",
              "      <td>dusk or dawn</td>\n",
              "      <td>functioning</td>\n",
              "      <td>0</td>\n",
              "      <td>0</td>\n",
              "      <td>0</td>\n",
              "      <td>1</td>\n",
              "      <td>0</td>\n",
              "      <td>1</td>\n",
              "      <td>NaN</td>\n",
              "      <td>motorcycle or scooter</td>\n",
              "      <td>motorcycle</td>\n",
              "      <td>0</td>\n",
              "      <td>0</td>\n",
              "      <td>0</td>\n",
              "      <td>0</td>\n",
              "      <td>0</td>\n",
              "      <td>0</td>\n",
              "      <td>0</td>\n",
              "      <td>1</td>\n",
              "      <td>0</td>\n",
              "      <td>None</td>\n",
              "      <td>None</td>\n",
              "      <td>38.48171</td>\n",
              "      <td>-121.40174</td>\n",
              "      <td>2009-01-29</td>\n",
              "      <td>07:45:00</td>\n",
              "    </tr>\n",
              "  </tbody>\n",
              "</table>\n",
              "</div>"
            ],
            "text/plain": [
              "   case_id county_city_location  ... collision_date collision_time\n",
              "0  3982906                 1972  ...     2009-01-12       17:10:00\n",
              "1  3984246                 3607  ...     2009-01-11       13:02:00\n",
              "2  3984329                 2000  ...     2009-01-01       13:45:00\n",
              "3  3984352                 1942  ...     2009-01-11       14:50:00\n",
              "4  3984398                 3400  ...     2009-01-29       07:45:00\n",
              "\n",
              "[5 rows x 68 columns]"
            ]
          },
          "metadata": {}
        }
      ]
    },
    {
      "cell_type": "markdown",
      "metadata": {
        "id": "7fFSHoIyx-E5"
      },
      "source": [
        "Timestamps are splitted in date and time and they are not parsed, so they are processed generating one column per field (i.s. year, month, day, hour, minute, second).\n",
        "The columns to consider are `collision_date` and `collision_time`."
      ]
    },
    {
      "cell_type": "code",
      "metadata": {
        "tags": [],
        "colab": {
          "base_uri": "https://localhost:8080/"
        },
        "id": "M4vpogOlx-E6",
        "outputId": "9e78cc12-95d0-4133-988e-cdd2f5ccb4b7"
      },
      "source": [
        "df[\"collisions\"].loc[:, [\"collision_date\", \"collision_time\"]].isnull().sum()"
      ],
      "execution_count": 15,
      "outputs": [
        {
          "output_type": "execute_result",
          "data": {
            "text/plain": [
              "collision_date      0\n",
              "collision_time    770\n",
              "dtype: int64"
            ]
          },
          "metadata": {},
          "execution_count": 15
        }
      ]
    },
    {
      "cell_type": "markdown",
      "metadata": {
        "id": "rH8vMPHFx-E6"
      },
      "source": [
        "`collision_time` has some missing values.\n",
        "Median value of timestamps distribution within the 24-hours day is used to fill missing values."
      ]
    },
    {
      "cell_type": "code",
      "metadata": {
        "tags": [],
        "colab": {
          "base_uri": "https://localhost:8080/",
          "height": 300
        },
        "id": "2G83NppNx-E6",
        "outputId": "3ab1c999-19b9-4334-b736-abd7313cb127"
      },
      "source": [
        "def get_seconds(hour, minute, second):\n",
        "    return hour*3600 + minute*60 + second\n",
        "\n",
        "def get_hms(seconds):\n",
        "    hour = seconds // 3600\n",
        "    seconds -= hour * 3600\n",
        "    minute = seconds // 60\n",
        "    seconds -= minute * 60\n",
        "    second = round(seconds)\n",
        "    return int(hour), int(minute), int(second)\n",
        "\n",
        "def get_date_cols(col_date, col_time=None):\n",
        "    \n",
        "    year = col_date.apply(lambda x: pd.Timestamp(x).year)\n",
        "    month = col_date.apply(lambda x: pd.Timestamp(x).month)\n",
        "    day = col_date.apply(lambda x: pd.Timestamp(x).day)\n",
        "    \n",
        "    df = pd.DataFrame({\"year\": year.values, \"month\": month.values, \"day\": day.values}, index=col_date.index)\n",
        "    \n",
        "    if type(col_time) == pd.Series:\n",
        "        \n",
        "        # fill missing times with median\n",
        "        time_median = col_time.apply(lambda x: get_seconds(*np.array(x.split(\":\")).astype(int)) if type(x)==str else np.nan).dropna().median()\n",
        "        col_time = col_time.fillna(value=\"{:02d}:{:02d}:{:02d}\".format(*get_hms(time_median)))\n",
        "\n",
        "        hour = col_time.apply(lambda x: x.split(\":\")[0]).astype(int)\n",
        "        minute = col_time.apply(lambda x: x.split(\":\")[1]).astype(int)\n",
        "        second = col_time.apply(lambda x: x.split(\":\")[2]).astype(int)\n",
        "        \n",
        "        # pack time fields with date's\n",
        "        df = df.join(pd.DataFrame({\"hour\": hour, \"minute\": minute, \"second\": second}, index=col_time.index))\n",
        "    \n",
        "    return df\n",
        "\n",
        "df[\"collisions\"] = df[\"collisions\"].join(get_date_cols(df[\"collisions\"].collision_date, df[\"collisions\"].collision_time).rename(columns={var: \"collision_date_\"+var for var in [\"year\", \"month\", \"day\", \"hour\", \"minute\", \"second\"]}))\n",
        "df[\"collisions\"] = df[\"collisions\"].drop(columns=[\"collision_date\", \"collision_time\"])\n",
        "\n",
        "df[\"collisions\"].loc[:, [\"collision_date_\" + var for var in [\"year\", \"month\", \"day\", \"hour\", \"minute\", \"second\"]]].describe()"
      ],
      "execution_count": 16,
      "outputs": [
        {
          "output_type": "execute_result",
          "data": {
            "text/html": [
              "<div>\n",
              "<style scoped>\n",
              "    .dataframe tbody tr th:only-of-type {\n",
              "        vertical-align: middle;\n",
              "    }\n",
              "\n",
              "    .dataframe tbody tr th {\n",
              "        vertical-align: top;\n",
              "    }\n",
              "\n",
              "    .dataframe thead th {\n",
              "        text-align: right;\n",
              "    }\n",
              "</style>\n",
              "<table border=\"1\" class=\"dataframe\">\n",
              "  <thead>\n",
              "    <tr style=\"text-align: right;\">\n",
              "      <th></th>\n",
              "      <th>collision_date_year</th>\n",
              "      <th>collision_date_month</th>\n",
              "      <th>collision_date_day</th>\n",
              "      <th>collision_date_hour</th>\n",
              "      <th>collision_date_minute</th>\n",
              "      <th>collision_date_second</th>\n",
              "    </tr>\n",
              "  </thead>\n",
              "  <tbody>\n",
              "    <tr>\n",
              "      <th>count</th>\n",
              "      <td>278684.000000</td>\n",
              "      <td>278684.000000</td>\n",
              "      <td>278684.000000</td>\n",
              "      <td>278684.000000</td>\n",
              "      <td>278684.000000</td>\n",
              "      <td>278684.0</td>\n",
              "    </tr>\n",
              "    <tr>\n",
              "      <th>mean</th>\n",
              "      <td>2011.435009</td>\n",
              "      <td>6.657792</td>\n",
              "      <td>15.692106</td>\n",
              "      <td>13.841179</td>\n",
              "      <td>27.676067</td>\n",
              "      <td>0.0</td>\n",
              "    </tr>\n",
              "    <tr>\n",
              "      <th>std</th>\n",
              "      <td>5.716283</td>\n",
              "      <td>3.165702</td>\n",
              "      <td>8.775089</td>\n",
              "      <td>4.964365</td>\n",
              "      <td>17.467590</td>\n",
              "      <td>0.0</td>\n",
              "    </tr>\n",
              "    <tr>\n",
              "      <th>min</th>\n",
              "      <td>2001.000000</td>\n",
              "      <td>1.000000</td>\n",
              "      <td>1.000000</td>\n",
              "      <td>0.000000</td>\n",
              "      <td>0.000000</td>\n",
              "      <td>0.0</td>\n",
              "    </tr>\n",
              "    <tr>\n",
              "      <th>25%</th>\n",
              "      <td>2007.000000</td>\n",
              "      <td>4.000000</td>\n",
              "      <td>8.000000</td>\n",
              "      <td>11.000000</td>\n",
              "      <td>13.000000</td>\n",
              "      <td>0.0</td>\n",
              "    </tr>\n",
              "    <tr>\n",
              "      <th>50%</th>\n",
              "      <td>2012.000000</td>\n",
              "      <td>7.000000</td>\n",
              "      <td>16.000000</td>\n",
              "      <td>15.000000</td>\n",
              "      <td>30.000000</td>\n",
              "      <td>0.0</td>\n",
              "    </tr>\n",
              "    <tr>\n",
              "      <th>75%</th>\n",
              "      <td>2016.000000</td>\n",
              "      <td>9.000000</td>\n",
              "      <td>23.000000</td>\n",
              "      <td>17.000000</td>\n",
              "      <td>43.000000</td>\n",
              "      <td>0.0</td>\n",
              "    </tr>\n",
              "    <tr>\n",
              "      <th>max</th>\n",
              "      <td>2021.000000</td>\n",
              "      <td>12.000000</td>\n",
              "      <td>31.000000</td>\n",
              "      <td>23.000000</td>\n",
              "      <td>59.000000</td>\n",
              "      <td>0.0</td>\n",
              "    </tr>\n",
              "  </tbody>\n",
              "</table>\n",
              "</div>"
            ],
            "text/plain": [
              "       collision_date_year  ...  collision_date_second\n",
              "count        278684.000000  ...               278684.0\n",
              "mean           2011.435009  ...                    0.0\n",
              "std               5.716283  ...                    0.0\n",
              "min            2001.000000  ...                    0.0\n",
              "25%            2007.000000  ...                    0.0\n",
              "50%            2012.000000  ...                    0.0\n",
              "75%            2016.000000  ...                    0.0\n",
              "max            2021.000000  ...                    0.0\n",
              "\n",
              "[8 rows x 6 columns]"
            ]
          },
          "metadata": {},
          "execution_count": 16
        }
      ]
    },
    {
      "cell_type": "markdown",
      "metadata": {
        "id": "2IZVCYwjx-E7"
      },
      "source": [
        "Now missing values are filled using `\"None\"` label for categorical and $0$ for numeric features.\n",
        "Maybe $0$ is not the best value to use but it does not belongs to other significant values of numeric columns."
      ]
    },
    {
      "cell_type": "code",
      "metadata": {
        "tags": [],
        "colab": {
          "base_uri": "https://localhost:8080/",
          "height": 682
        },
        "id": "V8NMCCjux-E7",
        "outputId": "a71f9068-a835-46fd-b572-76ce5b733fc5"
      },
      "source": [
        "def preprocess_missing(df, figsize=(30,5), none_is_na = True):\n",
        "    \n",
        "    ''' Fill missing values: with \"None\" for labels, with 0 for numeric features '''\n",
        "    \n",
        "    df = df.copy()\n",
        "    \n",
        "    if none_is_na:\n",
        "        df = df.replace(\"None\", np.nan)\n",
        "    \n",
        "    null_counts = (df.isnull().sum() / df.shape[0] * 100).loc[lambda x: x!=0]\n",
        "    \n",
        "    fig,ax = plt.subplots(figsize=figsize)\n",
        "    ax = sns.barplot(x=null_counts.index, y=null_counts.values, color=\"C0\", ax=ax)\n",
        "    ax.tick_params(axis=\"x\", rotation=45)\n",
        "    ax.set_title(\"Missing values\")\n",
        "    ax.set_xlabel(\"feature\")\n",
        "    ax.set_ylabel(\"percentage (%)\")\n",
        "    plt.show()\n",
        "    \n",
        "    drop_cols = null_counts.loc[lambda x: x==100].index.tolist()\n",
        "    df = df.drop(columns=drop_cols)\n",
        "    if len(drop_cols) != 0:\n",
        "        print(\"Completely null features:\")\n",
        "        for col in drop_cols:\n",
        "            print(\"\\t\"+col)\n",
        "    \n",
        "    null_obj = df.dtypes.loc[null_counts.index].loc[lambda x: x==object]\n",
        "    null_numeric = df.dtypes.loc[null_counts.index].loc[lambda x: x!=object]\n",
        "    \n",
        "    df.loc[:,null_obj.index] = df.loc[:,null_obj.index].fillna(value=\"None\")\n",
        "    \n",
        "    display(df.loc[:,null_numeric.index].describe())\n",
        "    \n",
        "    # all numeric features with missing values can be filled with 0 in all tables, because of this the following line of code is commented\n",
        "    #fill_numeric = input(\"Fill missing numeric values with 0? (Y/n): \")\n",
        "    fill_numeric = \"y\"\n",
        "    \n",
        "    if fill_numeric in [\"Y\", \"y\", \"\"]:\n",
        "        df.loc[:, null_numeric.index] = df.loc[:, null_numeric.index].fillna(value=0)\n",
        "        \n",
        "    return df\n",
        "\n",
        "df[\"collisions\"] = preprocess_missing(df[\"collisions\"])"
      ],
      "execution_count": 17,
      "outputs": [
        {
          "output_type": "display_data",
          "data": {
            "image/png": "[encoded data removed]",
            "text/plain": [
              "<Figure size 2160x360 with 1 Axes>"
            ]
          },
          "metadata": {
            "needs_background": "light"
          }
        },
        {
          "output_type": "display_data",
          "data": {
            "text/html": [
              "<div>\n",
              "<style scoped>\n",
              "    .dataframe tbody tr th:only-of-type {\n",
              "        vertical-align: middle;\n",
              "    }\n",
              "\n",
              "    .dataframe tbody tr th {\n",
              "        vertical-align: top;\n",
              "    }\n",
              "\n",
              "    .dataframe thead th {\n",
              "        text-align: right;\n",
              "    }\n",
              "</style>\n",
              "<table border=\"1\" class=\"dataframe\">\n",
              "  <thead>\n",
              "    <tr style=\"text-align: right;\">\n",
              "      <th></th>\n",
              "      <th>intersection</th>\n",
              "      <th>state_highway_indicator</th>\n",
              "      <th>caltrans_district</th>\n",
              "      <th>state_route</th>\n",
              "      <th>postmile</th>\n",
              "      <th>tow_away</th>\n",
              "      <th>killed_victims</th>\n",
              "      <th>injured_victims</th>\n",
              "      <th>pcf_violation</th>\n",
              "      <th>alcohol_involved</th>\n",
              "      <th>latitude</th>\n",
              "      <th>longitude</th>\n",
              "    </tr>\n",
              "  </thead>\n",
              "  <tbody>\n",
              "    <tr>\n",
              "      <th>count</th>\n",
              "      <td>276863.000000</td>\n",
              "      <td>278603.000000</td>\n",
              "      <td>83831.000000</td>\n",
              "      <td>83831.000000</td>\n",
              "      <td>83831.000000</td>\n",
              "      <td>277062.000000</td>\n",
              "      <td>278633.000000</td>\n",
              "      <td>278629.000000</td>\n",
              "      <td>260898.000000</td>\n",
              "      <td>23197.0</td>\n",
              "      <td>100605.000000</td>\n",
              "      <td>100605.000000</td>\n",
              "    </tr>\n",
              "    <tr>\n",
              "      <th>mean</th>\n",
              "      <td>0.212206</td>\n",
              "      <td>0.412605</td>\n",
              "      <td>6.421873</td>\n",
              "      <td>125.206368</td>\n",
              "      <td>18.627243</td>\n",
              "      <td>0.599721</td>\n",
              "      <td>0.033094</td>\n",
              "      <td>0.906061</td>\n",
              "      <td>22049.515581</td>\n",
              "      <td>1.0</td>\n",
              "      <td>35.468482</td>\n",
              "      <td>-119.306148</td>\n",
              "    </tr>\n",
              "    <tr>\n",
              "      <th>std</th>\n",
              "      <td>0.408871</td>\n",
              "      <td>0.492304</td>\n",
              "      <td>3.365053</td>\n",
              "      <td>187.451468</td>\n",
              "      <td>18.816228</td>\n",
              "      <td>0.489956</td>\n",
              "      <td>0.184336</td>\n",
              "      <td>0.581412</td>\n",
              "      <td>1482.981066</td>\n",
              "      <td>0.0</td>\n",
              "      <td>2.124129</td>\n",
              "      <td>1.990000</td>\n",
              "    </tr>\n",
              "    <tr>\n",
              "      <th>min</th>\n",
              "      <td>0.000000</td>\n",
              "      <td>0.000000</td>\n",
              "      <td>0.000000</td>\n",
              "      <td>0.000000</td>\n",
              "      <td>0.000000</td>\n",
              "      <td>0.000000</td>\n",
              "      <td>0.000000</td>\n",
              "      <td>0.000000</td>\n",
              "      <td>0.000000</td>\n",
              "      <td>1.0</td>\n",
              "      <td>32.500600</td>\n",
              "      <td>-124.450260</td>\n",
              "    </tr>\n",
              "    <tr>\n",
              "      <th>25%</th>\n",
              "      <td>0.000000</td>\n",
              "      <td>0.000000</td>\n",
              "      <td>4.000000</td>\n",
              "      <td>10.000000</td>\n",
              "      <td>4.960000</td>\n",
              "      <td>0.000000</td>\n",
              "      <td>0.000000</td>\n",
              "      <td>1.000000</td>\n",
              "      <td>21801.000000</td>\n",
              "      <td>1.0</td>\n",
              "      <td>33.887930</td>\n",
              "      <td>-121.364490</td>\n",
              "    </tr>\n",
              "    <tr>\n",
              "      <th>50%</th>\n",
              "      <td>0.000000</td>\n",
              "      <td>0.000000</td>\n",
              "      <td>7.000000</td>\n",
              "      <td>75.000000</td>\n",
              "      <td>13.950000</td>\n",
              "      <td>1.000000</td>\n",
              "      <td>0.000000</td>\n",
              "      <td>1.000000</td>\n",
              "      <td>22107.000000</td>\n",
              "      <td>1.0</td>\n",
              "      <td>34.232680</td>\n",
              "      <td>-118.414500</td>\n",
              "    </tr>\n",
              "    <tr>\n",
              "      <th>75%</th>\n",
              "      <td>0.000000</td>\n",
              "      <td>1.000000</td>\n",
              "      <td>8.000000</td>\n",
              "      <td>110.000000</td>\n",
              "      <td>26.250000</td>\n",
              "      <td>1.000000</td>\n",
              "      <td>0.000000</td>\n",
              "      <td>1.000000</td>\n",
              "      <td>22350.000000</td>\n",
              "      <td>1.0</td>\n",
              "      <td>37.598920</td>\n",
              "      <td>-117.732540</td>\n",
              "    </tr>\n",
              "    <tr>\n",
              "      <th>max</th>\n",
              "      <td>1.000000</td>\n",
              "      <td>1.000000</td>\n",
              "      <td>12.000000</td>\n",
              "      <td>980.000000</td>\n",
              "      <td>406.580000</td>\n",
              "      <td>1.000000</td>\n",
              "      <td>5.000000</td>\n",
              "      <td>27.000000</td>\n",
              "      <td>38506.000000</td>\n",
              "      <td>1.0</td>\n",
              "      <td>42.001660</td>\n",
              "      <td>-114.107620</td>\n",
              "    </tr>\n",
              "  </tbody>\n",
              "</table>\n",
              "</div>"
            ],
            "text/plain": [
              "        intersection  state_highway_indicator  ...       latitude      longitude\n",
              "count  276863.000000            278603.000000  ...  100605.000000  100605.000000\n",
              "mean        0.212206                 0.412605  ...      35.468482    -119.306148\n",
              "std         0.408871                 0.492304  ...       2.124129       1.990000\n",
              "min         0.000000                 0.000000  ...      32.500600    -124.450260\n",
              "25%         0.000000                 0.000000  ...      33.887930    -121.364490\n",
              "50%         0.000000                 0.000000  ...      34.232680    -118.414500\n",
              "75%         0.000000                 1.000000  ...      37.598920    -117.732540\n",
              "max         1.000000                 1.000000  ...      42.001660    -114.107620\n",
              "\n",
              "[8 rows x 12 columns]"
            ]
          },
          "metadata": {}
        }
      ]
    },
    {
      "cell_type": "code",
      "metadata": {
        "tags": [],
        "colab": {
          "base_uri": "https://localhost:8080/",
          "height": 365
        },
        "id": "xUuIPrGSx-E8",
        "outputId": "d2d6cdb2-d9c8-4d67-81e0-854bcffe18bf"
      },
      "source": [
        "# get collisions' parties on a motorcycle (or scooter)\n",
        "motorcycle_collisions = \"SELECT \" + convert_list(cols[\"parties\"]) + \" FROM parties \"\n",
        "motorcycle_collisions += \"WHERE case_id IN (\" + convert_list(df[\"collisions\"].case_id) + \") AND statewide_vehicle_type = 'motorcycle or scooter'\"\n",
        "df[\"parties\"] = pd.DataFrame([list(x) for x in cur.execute(motorcycle_collisions)], columns=cols[\"parties\"])\n",
        "\n",
        "display(df[\"parties\"].head())\n",
        "print(\"\\nEntries: {}\".format(df[\"parties\"].shape[0]))\n",
        "print(\"Features: {}\".format(df[\"parties\"].shape[1]))"
      ],
      "execution_count": 18,
      "outputs": [
        {
          "output_type": "display_data",
          "data": {
            "text/html": [
              "<div>\n",
              "<style scoped>\n",
              "    .dataframe tbody tr th:only-of-type {\n",
              "        vertical-align: middle;\n",
              "    }\n",
              "\n",
              "    .dataframe tbody tr th {\n",
              "        vertical-align: top;\n",
              "    }\n",
              "\n",
              "    .dataframe thead th {\n",
              "        text-align: right;\n",
              "    }\n",
              "</style>\n",
              "<table border=\"1\" class=\"dataframe\">\n",
              "  <thead>\n",
              "    <tr style=\"text-align: right;\">\n",
              "      <th></th>\n",
              "      <th>case_id</th>\n",
              "      <th>party_number</th>\n",
              "      <th>party_type</th>\n",
              "      <th>at_fault</th>\n",
              "      <th>party_sex</th>\n",
              "      <th>party_age</th>\n",
              "      <th>party_sobriety</th>\n",
              "      <th>party_drug_physical</th>\n",
              "      <th>direction_of_travel</th>\n",
              "      <th>party_safety_equipment_1</th>\n",
              "      <th>party_safety_equipment_2</th>\n",
              "      <th>financial_responsibility</th>\n",
              "      <th>hazardous_materials</th>\n",
              "      <th>school_bus_related</th>\n",
              "      <th>oaf_violation_code</th>\n",
              "      <th>oaf_violation_category</th>\n",
              "      <th>oaf_violation_section</th>\n",
              "      <th>oaf_violation_suffix</th>\n",
              "      <th>other_associate_factor_1</th>\n",
              "      <th>other_associate_factor_2</th>\n",
              "      <th>party_number_killed</th>\n",
              "      <th>party_number_injured</th>\n",
              "      <th>movement_preceding_collision</th>\n",
              "      <th>vehicle_year</th>\n",
              "      <th>vehicle_make</th>\n",
              "      <th>party_race</th>\n",
              "    </tr>\n",
              "  </thead>\n",
              "  <tbody>\n",
              "    <tr>\n",
              "      <th>0</th>\n",
              "      <td>3982906</td>\n",
              "      <td>2</td>\n",
              "      <td>driver</td>\n",
              "      <td>0</td>\n",
              "      <td>male</td>\n",
              "      <td>25.0</td>\n",
              "      <td>impairment unknown</td>\n",
              "      <td>G</td>\n",
              "      <td>west</td>\n",
              "      <td>driver, motorcycle helmet used</td>\n",
              "      <td>None</td>\n",
              "      <td>proof of insurance obtained</td>\n",
              "      <td>NaN</td>\n",
              "      <td>NaN</td>\n",
              "      <td>None</td>\n",
              "      <td>None</td>\n",
              "      <td>None</td>\n",
              "      <td>None</td>\n",
              "      <td>None</td>\n",
              "      <td>None</td>\n",
              "      <td>0</td>\n",
              "      <td>1</td>\n",
              "      <td>proceeding straight</td>\n",
              "      <td>2008.0</td>\n",
              "      <td>kawasaki</td>\n",
              "      <td>white</td>\n",
              "    </tr>\n",
              "    <tr>\n",
              "      <th>1</th>\n",
              "      <td>3984246</td>\n",
              "      <td>1</td>\n",
              "      <td>driver</td>\n",
              "      <td>1</td>\n",
              "      <td>male</td>\n",
              "      <td>28.0</td>\n",
              "      <td>None</td>\n",
              "      <td>under drug influence</td>\n",
              "      <td>east</td>\n",
              "      <td>not required</td>\n",
              "      <td>driver, motorcycle helmet used</td>\n",
              "      <td>no proof of insurance obtained</td>\n",
              "      <td>NaN</td>\n",
              "      <td>NaN</td>\n",
              "      <td>None</td>\n",
              "      <td>None</td>\n",
              "      <td>None</td>\n",
              "      <td>None</td>\n",
              "      <td>none apparent</td>\n",
              "      <td>None</td>\n",
              "      <td>1</td>\n",
              "      <td>0</td>\n",
              "      <td>proceeding straight</td>\n",
              "      <td>2005.0</td>\n",
              "      <td>suzuki</td>\n",
              "      <td>other</td>\n",
              "    </tr>\n",
              "    <tr>\n",
              "      <th>2</th>\n",
              "      <td>3984329</td>\n",
              "      <td>1</td>\n",
              "      <td>driver</td>\n",
              "      <td>1</td>\n",
              "      <td>female</td>\n",
              "      <td>38.0</td>\n",
              "      <td>had not been drinking</td>\n",
              "      <td>under drug influence</td>\n",
              "      <td>east</td>\n",
              "      <td>not required</td>\n",
              "      <td>driver, motorcycle helmet used</td>\n",
              "      <td>proof of insurance obtained</td>\n",
              "      <td>NaN</td>\n",
              "      <td>NaN</td>\n",
              "      <td>None</td>\n",
              "      <td>wrong side of road</td>\n",
              "      <td>21650</td>\n",
              "      <td>None</td>\n",
              "      <td>violation</td>\n",
              "      <td>None</td>\n",
              "      <td>1</td>\n",
              "      <td>0</td>\n",
              "      <td>crossed into opposing lane</td>\n",
              "      <td>2006.0</td>\n",
              "      <td>suzuki</td>\n",
              "      <td>white</td>\n",
              "    </tr>\n",
              "    <tr>\n",
              "      <th>3</th>\n",
              "      <td>3984352</td>\n",
              "      <td>2</td>\n",
              "      <td>driver</td>\n",
              "      <td>0</td>\n",
              "      <td>male</td>\n",
              "      <td>21.0</td>\n",
              "      <td>had not been drinking</td>\n",
              "      <td>under drug influence</td>\n",
              "      <td>west</td>\n",
              "      <td>air bag deployed</td>\n",
              "      <td>driver, motorcycle helmet used</td>\n",
              "      <td>None</td>\n",
              "      <td>NaN</td>\n",
              "      <td>NaN</td>\n",
              "      <td>None</td>\n",
              "      <td>None</td>\n",
              "      <td>None</td>\n",
              "      <td>None</td>\n",
              "      <td>none apparent</td>\n",
              "      <td>None</td>\n",
              "      <td>1</td>\n",
              "      <td>0</td>\n",
              "      <td>proceeding straight</td>\n",
              "      <td>2007.0</td>\n",
              "      <td>ducati</td>\n",
              "      <td>white</td>\n",
              "    </tr>\n",
              "    <tr>\n",
              "      <th>4</th>\n",
              "      <td>3984398</td>\n",
              "      <td>1</td>\n",
              "      <td>driver</td>\n",
              "      <td>1</td>\n",
              "      <td>male</td>\n",
              "      <td>20.0</td>\n",
              "      <td>had not been drinking</td>\n",
              "      <td>None</td>\n",
              "      <td>west</td>\n",
              "      <td>not required</td>\n",
              "      <td>driver, motorcycle helmet used</td>\n",
              "      <td>None</td>\n",
              "      <td>NaN</td>\n",
              "      <td>NaN</td>\n",
              "      <td>None</td>\n",
              "      <td>None</td>\n",
              "      <td>None</td>\n",
              "      <td>None</td>\n",
              "      <td>none apparent</td>\n",
              "      <td>None</td>\n",
              "      <td>1</td>\n",
              "      <td>0</td>\n",
              "      <td>proceeding straight</td>\n",
              "      <td>2003.0</td>\n",
              "      <td>honda</td>\n",
              "      <td>black</td>\n",
              "    </tr>\n",
              "  </tbody>\n",
              "</table>\n",
              "</div>"
            ],
            "text/plain": [
              "   case_id  party_number party_type  ...  vehicle_year vehicle_make  party_race\n",
              "0  3982906             2     driver  ...        2008.0     kawasaki       white\n",
              "1  3984246             1     driver  ...        2005.0       suzuki       other\n",
              "2  3984329             1     driver  ...        2006.0       suzuki       white\n",
              "3  3984352             2     driver  ...        2007.0       ducati       white\n",
              "4  3984398             1     driver  ...        2003.0        honda       black\n",
              "\n",
              "[5 rows x 26 columns]"
            ]
          },
          "metadata": {}
        },
        {
          "output_type": "stream",
          "name": "stdout",
          "text": [
            "\n",
            "Entries: 260795\n",
            "Features: 26\n"
          ]
        }
      ]
    },
    {
      "cell_type": "code",
      "metadata": {
        "execution": {
          "iopub.execute_input": "2021-09-06T12:00:54.840819Z",
          "iopub.status.busy": "2021-09-06T12:00:54.840408Z",
          "iopub.status.idle": "2021-09-06T12:00:57.967548Z",
          "shell.execute_reply": "2021-09-06T12:00:57.966572Z",
          "shell.execute_reply.started": "2021-09-06T12:00:54.840777Z"
        },
        "colab": {
          "base_uri": "https://localhost:8080/",
          "height": 659
        },
        "id": "_Nd1qmmXx-E8",
        "outputId": "022432aa-d23d-4e74-a70c-32857ef60a0b"
      },
      "source": [
        "df[\"parties\"] = preprocess_missing(df[\"parties\"])"
      ],
      "execution_count": 19,
      "outputs": [
        {
          "output_type": "display_data",
          "data": {
            "image/png": "[encoded data removed]",
            "text/plain": [
              "<Figure size 2160x360 with 1 Axes>"
            ]
          },
          "metadata": {
            "needs_background": "light"
          }
        },
        {
          "output_type": "display_data",
          "data": {
            "text/html": [
              "<div>\n",
              "<style scoped>\n",
              "    .dataframe tbody tr th:only-of-type {\n",
              "        vertical-align: middle;\n",
              "    }\n",
              "\n",
              "    .dataframe tbody tr th {\n",
              "        vertical-align: top;\n",
              "    }\n",
              "\n",
              "    .dataframe thead th {\n",
              "        text-align: right;\n",
              "    }\n",
              "</style>\n",
              "<table border=\"1\" class=\"dataframe\">\n",
              "  <thead>\n",
              "    <tr style=\"text-align: right;\">\n",
              "      <th></th>\n",
              "      <th>party_age</th>\n",
              "      <th>hazardous_materials</th>\n",
              "      <th>school_bus_related</th>\n",
              "      <th>vehicle_year</th>\n",
              "    </tr>\n",
              "  </thead>\n",
              "  <tbody>\n",
              "    <tr>\n",
              "      <th>count</th>\n",
              "      <td>246234.000000</td>\n",
              "      <td>223.0</td>\n",
              "      <td>288.0</td>\n",
              "      <td>250193.000000</td>\n",
              "    </tr>\n",
              "    <tr>\n",
              "      <th>mean</th>\n",
              "      <td>37.338905</td>\n",
              "      <td>1.0</td>\n",
              "      <td>1.0</td>\n",
              "      <td>2004.461556</td>\n",
              "    </tr>\n",
              "    <tr>\n",
              "      <th>std</th>\n",
              "      <td>14.208053</td>\n",
              "      <td>0.0</td>\n",
              "      <td>0.0</td>\n",
              "      <td>8.850637</td>\n",
              "    </tr>\n",
              "    <tr>\n",
              "      <th>min</th>\n",
              "      <td>0.000000</td>\n",
              "      <td>1.0</td>\n",
              "      <td>1.0</td>\n",
              "      <td>1016.000000</td>\n",
              "    </tr>\n",
              "    <tr>\n",
              "      <th>25%</th>\n",
              "      <td>25.000000</td>\n",
              "      <td>1.0</td>\n",
              "      <td>1.0</td>\n",
              "      <td>2001.000000</td>\n",
              "    </tr>\n",
              "    <tr>\n",
              "      <th>50%</th>\n",
              "      <td>34.000000</td>\n",
              "      <td>1.0</td>\n",
              "      <td>1.0</td>\n",
              "      <td>2005.000000</td>\n",
              "    </tr>\n",
              "    <tr>\n",
              "      <th>75%</th>\n",
              "      <td>48.000000</td>\n",
              "      <td>1.0</td>\n",
              "      <td>1.0</td>\n",
              "      <td>2009.000000</td>\n",
              "    </tr>\n",
              "    <tr>\n",
              "      <th>max</th>\n",
              "      <td>104.000000</td>\n",
              "      <td>1.0</td>\n",
              "      <td>1.0</td>\n",
              "      <td>2075.000000</td>\n",
              "    </tr>\n",
              "  </tbody>\n",
              "</table>\n",
              "</div>"
            ],
            "text/plain": [
              "           party_age  hazardous_materials  school_bus_related   vehicle_year\n",
              "count  246234.000000                223.0               288.0  250193.000000\n",
              "mean       37.338905                  1.0                 1.0    2004.461556\n",
              "std        14.208053                  0.0                 0.0       8.850637\n",
              "min         0.000000                  1.0                 1.0    1016.000000\n",
              "25%        25.000000                  1.0                 1.0    2001.000000\n",
              "50%        34.000000                  1.0                 1.0    2005.000000\n",
              "75%        48.000000                  1.0                 1.0    2009.000000\n",
              "max       104.000000                  1.0                 1.0    2075.000000"
            ]
          },
          "metadata": {}
        }
      ]
    },
    {
      "cell_type": "code",
      "metadata": {
        "execution": {
          "iopub.execute_input": "2021-09-06T12:00:57.969473Z",
          "iopub.status.busy": "2021-09-06T12:00:57.969059Z",
          "iopub.status.idle": "2021-09-06T12:00:58.023991Z",
          "shell.execute_reply": "2021-09-06T12:00:58.022891Z",
          "shell.execute_reply.started": "2021-09-06T12:00:57.969419Z"
        },
        "colab": {
          "base_uri": "https://localhost:8080/"
        },
        "id": "4Z1hg0s0x-E9",
        "outputId": "96da1ca4-d618-4a1a-bdf8-f43b4ad9ebd2"
      },
      "source": [
        "print(\"Motorcycles without make: {}\".format((df[\"parties\"].vehicle_make == \"None\").sum()))"
      ],
      "execution_count": 20,
      "outputs": [
        {
          "output_type": "stream",
          "name": "stdout",
          "text": [
            "Motorcycles without make: 29830\n"
          ]
        }
      ]
    },
    {
      "cell_type": "markdown",
      "metadata": {
        "id": "Leamthxvx-E9"
      },
      "source": [
        "Motorcycles without a make are not useful so they are removed."
      ]
    },
    {
      "cell_type": "code",
      "metadata": {
        "execution": {
          "iopub.execute_input": "2021-09-06T12:00:58.025759Z",
          "iopub.status.busy": "2021-09-06T12:00:58.025397Z",
          "iopub.status.idle": "2021-09-06T12:00:58.288881Z",
          "shell.execute_reply": "2021-09-06T12:00:58.287587Z",
          "shell.execute_reply.started": "2021-09-06T12:00:58.02572Z"
        },
        "id": "2TgufgEvx-E-"
      },
      "source": [
        "df[\"parties\"] = df[\"parties\"].loc[df[\"parties\"].vehicle_make != \"None\"]"
      ],
      "execution_count": 21,
      "outputs": []
    },
    {
      "cell_type": "markdown",
      "metadata": {
        "id": "i3vnZwubx-E-"
      },
      "source": [
        "Collisions data are merged into `parties` table using case ids.\n",
        "Moreover, in this way collisions without any party entry will be excluded."
      ]
    },
    {
      "cell_type": "code",
      "metadata": {
        "execution": {
          "iopub.execute_input": "2021-09-06T12:00:58.291654Z",
          "iopub.status.busy": "2021-09-06T12:00:58.291152Z",
          "iopub.status.idle": "2021-09-06T12:01:09.08592Z",
          "shell.execute_reply": "2021-09-06T12:01:09.08502Z",
          "shell.execute_reply.started": "2021-09-06T12:00:58.291605Z"
        },
        "scrolled": true,
        "colab": {
          "base_uri": "https://localhost:8080/"
        },
        "id": "U1GJz8uMx-E-",
        "outputId": "ae7e799d-d000-4d3a-ce38-a763940ccfbd"
      },
      "source": [
        "df = df[\"parties\"].merge(df[\"collisions\"], on=\"case_id\", how=\"left\").set_index([\"case_id\", \"party_number\"]).sort_index()\n",
        "print(\"Dataset shape: {}\".format(df.shape))"
      ],
      "execution_count": 22,
      "outputs": [
        {
          "output_type": "stream",
          "name": "stdout",
          "text": [
            "Dataset shape: (230965, 95)\n"
          ]
        }
      ]
    },
    {
      "cell_type": "markdown",
      "metadata": {
        "id": "Ce5DP-VQx-E_"
      },
      "source": [
        "Now categorical features are encoded."
      ]
    },
    {
      "cell_type": "code",
      "metadata": {
        "execution": {
          "iopub.execute_input": "2021-09-06T12:01:09.087523Z",
          "iopub.status.busy": "2021-09-06T12:01:09.08723Z",
          "iopub.status.idle": "2021-09-06T12:01:26.880406Z",
          "shell.execute_reply": "2021-09-06T12:01:26.879248Z",
          "shell.execute_reply.started": "2021-09-06T12:01:09.087495Z"
        },
        "colab": {
          "base_uri": "https://localhost:8080/",
          "height": 49,
          "referenced_widgets": [
            "d88c60ee706b4e188d5050a64d3d655a",
            "b6c149640ea74b41b493902d3b176bf1",
            "9d2c19ab0a73475e8d02d0acbf9d5c3b",
            "7e2e33118eb0406ca246ea36e55649db",
            "0892b023b73045ecb32cc7355028cc0b",
            "bde425cff5cc4399b432727d99f7a526",
            "71757ecc57e847f6aeca79972f778069",
            "bbd143f508674765833df4a8a5bbd260",
            "b195b693c61a4c4a85e499c094c1b11d",
            "3b58ad1398da4224913631603acd3677",
            "a0c0309bfadd4ec3bd0c033940e8f38f"
          ]
        },
        "id": "U8paFvkIx-E_",
        "outputId": "052e6f67-d340-49c0-8613-58aae172c8fa"
      },
      "source": [
        "def encode_labels(df, progress=True):\n",
        "    df = df.copy()\n",
        "    label_encoders = {}\n",
        "    for col in tqdm(df.dtypes.loc[lambda x: x==object].index, disable=not progress):\n",
        "        label_encoders[col] = preprocessing.LabelEncoder().fit(df.loc[:,col])\n",
        "        df.loc[:,col] = label_encoders[col].transform(df.loc[:,col])\n",
        "    return df, label_encoders\n",
        "\n",
        "df_enc, label_encoders = encode_labels(df)"
      ],
      "execution_count": 23,
      "outputs": [
        {
          "output_type": "display_data",
          "data": {
            "application/vnd.jupyter.widget-view+json": {
              "model_id": "d88c60ee706b4e188d5050a64d3d655a",
              "version_minor": 0,
              "version_major": 2
            },
            "text/plain": [
              "  0%|          | 0/54 [00:00<?, ?it/s]"
            ]
          },
          "metadata": {}
        }
      ]
    },
    {
      "cell_type": "code",
      "metadata": {
        "execution": {
          "iopub.execute_input": "2021-09-06T12:01:26.882497Z",
          "iopub.status.busy": "2021-09-06T12:01:26.882051Z",
          "iopub.status.idle": "2021-09-06T12:01:27.026036Z",
          "shell.execute_reply": "2021-09-06T12:01:27.025071Z",
          "shell.execute_reply.started": "2021-09-06T12:01:26.882451Z"
        },
        "id": "r5L5QvkSx-E_"
      },
      "source": [
        "targets = [\"vehicle_make\"]\n",
        "x,y = df_enc.drop(columns=targets), df_enc.loc[:,targets]"
      ],
      "execution_count": 24,
      "outputs": []
    },
    {
      "cell_type": "code",
      "metadata": {
        "execution": {
          "iopub.execute_input": "2021-09-06T12:01:27.028067Z",
          "iopub.status.busy": "2021-09-06T12:01:27.027626Z",
          "iopub.status.idle": "2021-09-06T12:01:27.352683Z",
          "shell.execute_reply": "2021-09-06T12:01:27.351601Z",
          "shell.execute_reply.started": "2021-09-06T12:01:27.028022Z"
        },
        "colab": {
          "base_uri": "https://localhost:8080/",
          "height": 404
        },
        "id": "Wg_mbKeqx-E_",
        "outputId": "a6a9e857-85d0-485c-d081-e18fa1c8843f"
      },
      "source": [
        "N = 10 # how many makes to show separately\n",
        "vehicle_make_frac = (df.vehicle_make.value_counts() / df.shape[0]).sort_values(ascending=False).iloc[:N]\n",
        "vehicle_make_frac = vehicle_make_frac.append(pd.Series([1 - vehicle_make_frac.sum()], index=[\"other\"]))\n",
        "\n",
        "fig,ax = plt.subplots(figsize=(10,5))\n",
        "ax.set_title(\"Vehicle makes\")\n",
        "ax.set_ylabel(\"relative fraction\")\n",
        "ax.set_xlabel(\"make\")\n",
        "ax.tick_params(axis=\"x\", rotation=45)\n",
        "ax = sns.barplot(x=vehicle_make_frac.index, y=vehicle_make_frac.values, color=\"C0\", ax=ax)\n",
        "\n",
        "del vehicle_make_frac"
      ],
      "execution_count": 25,
      "outputs": [
        {
          "output_type": "display_data",
          "data": {
            "image/png": "[encoded data removed]",
            "text/plain": [
              "<Figure size 720x360 with 1 Axes>"
            ]
          },
          "metadata": {
            "needs_background": "light"
          }
        }
      ]
    },
    {
      "cell_type": "markdown",
      "metadata": {
        "id": "ofbyj30Wx-FA"
      },
      "source": [
        "\n",
        "# Principal Component Analysis"
      ]
    },
    {
      "cell_type": "markdown",
      "metadata": {
        "id": "jpzE9oSmx-FA"
      },
      "source": [
        "PCA could be used to reduce the dimensionality of the data.\n",
        "This is possible only if a restricted number of the first principal components contain a sufficient amount of the original variance."
      ]
    },
    {
      "cell_type": "code",
      "metadata": {
        "tags": [],
        "id": "1kVsIE7cx-FA"
      },
      "source": [
        "def get_pca_pipe(x):\n",
        "    ''' Fit PCA and return model '''\n",
        "    pca_pipe = pipeline.Pipeline([\n",
        "        (\"scaler\", preprocessing.StandardScaler()),\n",
        "        (\"pca\", decomposition.PCA(random_state=1))\n",
        "    ])\n",
        "    pca_pipe = pca_pipe.fit(x)\n",
        "    return pca_pipe\n",
        "\n",
        "pca_pipe = get_pca_pipe(x)\n",
        "pca = pca_pipe.named_steps[\"pca\"]\n",
        "\n",
        "ax = sns.lineplot(x=np.arange(1,pca.n_components_+1), y=pca.explained_variance_ratio_.cumsum())\n",
        "ax.set_title(\"Train set PCA\")\n",
        "ax.set_xlabel(\"principal components\")\n",
        "_ = ax.set_ylabel(\"cum. explained var. ratio\")"
      ],
      "execution_count": null,
      "outputs": []
    },
    {
      "cell_type": "markdown",
      "metadata": {
        "id": "uwIIvTctx-FA"
      },
      "source": [
        "First principal components do not contain much of the original variance to be representative of the starting space, so PCA results are not used."
      ]
    },
    {
      "cell_type": "code",
      "metadata": {
        "id": "l6uJoVE5x-FB"
      },
      "source": [
        "# # get collisions' parties on a motorcycle (or scooter)\n",
        "# cmd = \"SELECT \" + convert_list(cols[\"parties\"]) + \" FROM parties \"\n",
        "# cmd += \"WHERE case_id IN (\" + convert_list(df[\"collisions\"].case_id) + \") AND statewide_vehicle_type = 'motorcycle or scooter'\"\n",
        "# df[\"parties\"] = pd.DataFrame([list(x) for x in cur.execute(cmd)], columns=cols[\"parties\"])\n",
        "\n",
        "# display(df[\"parties\"].head())\n",
        "# print(\"\\nEntries: {}\".format(df[\"parties\"].shape[0]))\n",
        "# print(\"Features: {}\".format(df[\"parties\"].shape[1]))\n",
        "# df[\"parties\"] = preprocess_missing(df[\"parties\"])\n",
        "# print(\"Motorcycles without make: {}\".format((df[\"parties\"].vehicle_make == \"None\").sum()))\n",
        "# df[\"parties\"] = df[\"parties\"].loc[df[\"parties\"].vehicle_make != \"None\"]\n",
        "# df = df[\"parties\"].merge(df[\"collisions\"], on=\"case_id\", how=\"left\").set_index([\"case_id\", \"party_number\"]).sort_index()\n",
        "# print(\"Dataset shape: {}\".format(df.shape))\n",
        "# def encode_labels(df, progress=True):\n",
        "#     df = df.copy()\n",
        "#     label_encoders = {}\n",
        "#     for col in tqdm(df.dtypes.loc[lambda x: x==object].index, disable=not progress):\n",
        "#         label_encoders[col] = preprocessing.LabelEncoder().fit(df.loc[:,col])\n",
        "#         df.loc[:,col] = label_encoders[col].transform(df.loc[:,col])\n",
        "#     return df, label_encoders\n",
        "\n",
        "# df_enc, label_encoders = encode_labels(df)\n",
        "# targets = [\"vehicle_make\"]\n",
        "# x,y = df_enc.drop(columns=targets), df_enc.loc[:,targets]"
      ],
      "execution_count": null,
      "outputs": []
    },
    {
      "cell_type": "markdown",
      "metadata": {
        "id": "l6Y3GWoKx-FB"
      },
      "source": [
        "# Clustering Algorithms"
      ]
    },
    {
      "cell_type": "markdown",
      "metadata": {
        "id": "SV10GbPcx-FB"
      },
      "source": [
        "Before introducing clusters in data, their inertia is studied varying the groups number used by estimator.\n",
        "Then clusters are produced using a value near the elbow of the resulting inertia plot."
      ]
    },
    {
      "cell_type": "markdown",
      "metadata": {
        "id": "yCH4TgOQx-FB"
      },
      "source": [
        "### Mini Batch KMeans"
      ]
    },
    {
      "cell_type": "code",
      "metadata": {
        "id": "q6udLKN7x-FB"
      },
      "source": [
        "MiniBatchKmeans_train = x.copy()\n",
        "MiniBatchKMeans_target = y.copy()\n",
        "MiniBatchKMeans_df= df.copy()\n",
        "MiniBatchKMeans_df_enc = df_enc.copy()"
      ],
      "execution_count": null,
      "outputs": []
    },
    {
      "cell_type": "code",
      "metadata": {
        "tags": [],
        "id": "Q3RvxGP2x-FB"
      },
      "source": [
        "def get_MiniBatchKMeans_pipe(x, n, batch_size=1000):\n",
        "    cluster_pipe = pipeline.Pipeline([\n",
        "        (\"scaler\", preprocessing.StandardScaler()),\n",
        "        (\"cluster\", cluster.MiniBatchKMeans(n_clusters=n, batch_size=batch_size, random_state=1))\n",
        "    ])\n",
        "    cluster_pipe = cluster_pipe.fit(x)\n",
        "    return cluster_pipe\n",
        "\n",
        "N = 150 # maximum clusters tested\n",
        "inertia = [cluster_pipe.named_steps[\"cluster\"].inertia_ for cluster_pipe in jb.Parallel(n_jobs=-1)(jb.delayed(get_MiniBatchKMeans_pipe)(MiniBatchKmeans_train, n) for n in trange(2,N+1))]\n",
        "\n",
        "ax = sns.lineplot(x=np.arange(2,N+1), y=inertia)\n",
        "ax.set_title(\"Choosing the no. of clusters\")\n",
        "ax.set_xlabel(\"No. of Clusters\")\n",
        "_ = ax.set_ylabel(\"Inertia\")"
      ],
      "execution_count": null,
      "outputs": []
    },
    {
      "cell_type": "markdown",
      "metadata": {
        "id": "7J2W9oE2x-FC"
      },
      "source": [
        "From the above graph, we can select the inflection point as $60$ for deciding the number pf clusters."
      ]
    },
    {
      "cell_type": "code",
      "metadata": {
        "id": "3PVdOXVMx-FC"
      },
      "source": [
        "# MiniBatchKmeans_train.drop('cluster', axis=1, inplace=True)\n",
        "# MiniBatchKMeans_df.drop('cluster', axis=1, inplace=True)\n",
        "# MiniBatchKMeans_df_enc.drop('cluster', axis=1, inplace=True)"
      ],
      "execution_count": null,
      "outputs": []
    },
    {
      "cell_type": "code",
      "metadata": {
        "tags": [],
        "id": "bRKR2y9Ix-FC"
      },
      "source": [
        "cluster_pipe = get_MiniBatchKMeans_pipe(MiniBatchKmeans_train, n=60)\n",
        "cluster_values = cluster_pipe.predict(MiniBatchKmeans_train)\n",
        "MiniBatchKmeans_train.insert(loc=MiniBatchKmeans_train.shape[1], column=\"cluster\", value=cluster_values)\n",
        "MiniBatchKMeans_df.insert(loc=MiniBatchKMeans_df.shape[1], column=\"cluster\", value=cluster_values)\n",
        "MiniBatchKMeans_df_enc.insert(loc=MiniBatchKMeans_df_enc.shape[1], column=\"cluster\", value=cluster_values)"
      ],
      "execution_count": null,
      "outputs": []
    },
    {
      "cell_type": "markdown",
      "metadata": {
        "id": "T2MDTZYkx-FC"
      },
      "source": [
        "Clusters' properties can be retrieved form their centers."
      ]
    },
    {
      "cell_type": "code",
      "metadata": {
        "tags": [],
        "id": "dIyouvBMx-FC"
      },
      "source": [
        "def decode_labels(df, encoders, progress=False):\n",
        "    df = df.copy()\n",
        "    for col in encoders.keys():\n",
        "        if col in df.columns:\n",
        "            df.loc[:,col] = encoders[col].inverse_transform(df.loc[:,col].apply(lambda x: round(x))) # decode with the nearest valid label\n",
        "    return df\n",
        "\n",
        "# cluster characteristics\n",
        "cluster_centers = pd.DataFrame(cluster_pipe.named_steps[\"scaler\"].inverse_transform(cluster_pipe.named_steps[\"cluster\"].cluster_centers_), columns=MiniBatchKmeans_train.drop(columns=\"cluster\").columns)\n",
        "cluster_centers.index.name = \"cluster\"\n",
        "cluster_centers = decode_labels(cluster_centers, label_encoders)\n",
        "cluster_centers.head()"
      ],
      "execution_count": null,
      "outputs": []
    },
    {
      "cell_type": "markdown",
      "metadata": {
        "id": "_akGVM2vx-FC"
      },
      "source": [
        "Since clustering did not take into account `vehicle_make`, motorcycles could belong to one or more clusters based on collisions characteristics.\n",
        "Because of this next table shows the number of clusters that can be counted counted for each make."
      ]
    },
    {
      "cell_type": "code",
      "metadata": {
        "tags": [],
        "id": "RnhU_4jux-FC"
      },
      "source": [
        "# clusters counts per vehicle make\n",
        "cluster_counts = pd.DataFrame({\"clusters\": MiniBatchKMeans_df.groupby(\"vehicle_make\").cluster.nunique()})\n",
        "cluster_counts = cluster_counts.sort_index().sort_values(\"clusters\", ascending=False)\n",
        "cluster_counts.head()"
      ],
      "execution_count": null,
      "outputs": []
    },
    {
      "cell_type": "code",
      "metadata": {
        "tags": [],
        "id": "hCSc9_wBx-FD"
      },
      "source": [
        "fig,ax = plt.subplots(figsize=(10,5))\n",
        "ax.set_title(\"Makes' clusters\")\n",
        "ax.set_xlabel(\"Make's number of clusters\")\n",
        "ax.set_ylabel(\"relative fraction\")\n",
        "ax = sns.histplot(data=cluster_counts, x=\"clusters\", stat=\"probability\", bins=np.arange(1,cluster_pipe.named_steps[\"cluster\"].cluster_centers_.shape[0] + 2) - 0.5, ax=ax)"
      ],
      "execution_count": null,
      "outputs": []
    },
    {
      "cell_type": "markdown",
      "metadata": {
        "id": "LWZLNGLmx-FD"
      },
      "source": [
        "Approximately $58\\%$ of makes has collisions belonging only to one cluster.\n",
        "This means that those motorcycles made incidents with approximately the same characteristics, attributable to a single group."
      ]
    },
    {
      "cell_type": "code",
      "metadata": {
        "tags": [],
        "id": "lCSWurjFx-FD"
      },
      "source": [
        "# (vehicle_make, cluster) collisions counts\n",
        "collision_counts = pd.DataFrame({\"collisions\": MiniBatchKMeans_df.loc[:, [\"vehicle_make\", \"cluster\"]].value_counts()})\n",
        "collision_counts = collision_counts.sort_values(\"collisions\", ascending=False)\n",
        "collision_counts.head()"
      ],
      "execution_count": null,
      "outputs": []
    },
    {
      "cell_type": "markdown",
      "metadata": {
        "id": "MDVT5djnx-FD"
      },
      "source": [
        "In **Data preprocessing** section an histogram showing the relative fraction of collisions per make is already present.\n",
        "Now the following plot shows the relative fraction of collisions per cluster."
      ]
    },
    {
      "cell_type": "code",
      "metadata": {
        "tags": [],
        "id": "c8HdFK-Px-FD"
      },
      "source": [
        "collision_counts_cluster = collision_counts.groupby(\"cluster\").collisions.sum() / collision_counts.collisions.sum()\n",
        "\n",
        "fig,ax = plt.subplots(figsize=(15,5))\n",
        "ax.set_title(\"Clusters collisions\")\n",
        "ax.set_xlabel(\"cluster\")\n",
        "ax.set_ylabel(\"relative fraction\")\n",
        "ax = sns.barplot(x=collision_counts_cluster.index, y=collision_counts_cluster.values, ax=ax, color=\"C0\")"
      ],
      "execution_count": null,
      "outputs": []
    },
    {
      "cell_type": "markdown",
      "metadata": {
        "id": "Fc-6-JOsx-FD"
      },
      "source": [
        "Now final results are saved."
      ]
    },
    {
      "cell_type": "code",
      "metadata": {
        "tags": [],
        "id": "XwUN0GOfx-FD"
      },
      "source": [
        "encoders_dir = \"MiniBatchKMeans_encoders\"\n",
        "os.mkdir(encoders_dir)\n",
        "for col in label_encoders.keys():\n",
        "    jb.dump(label_encoders[col], encoders_dir + \"/\" + col + \".pkl\")\n",
        "\n",
        "estimators_dir = \"MiniBatchKMeans_estimators\"\n",
        "os.mkdir(estimators_dir)\n",
        "jb.dump(cluster_pipe, estimators_dir + \"/MiniBatchKMeans_cluster_pipe.pkl\")\n",
        "\n",
        "cluster_centers.to_csv(\"MiniBatchKMeans_cluster_centers.csv\")\n",
        "cluster_counts.to_csv(\"MiniBatchKMeans_cluster_counts.csv\")\n",
        "collision_counts.to_csv(\"MiniBatchKMeans_collision_counts.csv\")"
      ],
      "execution_count": null,
      "outputs": []
    },
    {
      "cell_type": "markdown",
      "metadata": {
        "id": "ILhtRMQox-FE"
      },
      "source": [
        "### KMeans "
      ]
    },
    {
      "cell_type": "code",
      "metadata": {
        "id": "hys4itv4x-FE"
      },
      "source": [
        "Kmeans_train = x.copy()\n",
        "KMeans_target = y.copy()\n",
        "KMeans_df= df.copy()\n",
        "KMeans_df_enc = df_enc.copy()"
      ],
      "execution_count": null,
      "outputs": []
    },
    {
      "cell_type": "code",
      "metadata": {
        "id": "2TcUtqsix-FE"
      },
      "source": [
        "from sklearn.decomposition import TruncatedSVD\n",
        "svd = TruncatedSVD(n_components=50)\n",
        "svd.fit(Kmeans_train)\n",
        "Kmeans_train_svd = svd.transform(Kmeans_train)"
      ],
      "execution_count": null,
      "outputs": []
    },
    {
      "cell_type": "code",
      "metadata": {
        "id": "5aV1tDuFx-FE"
      },
      "source": [
        "from sklearn.cluster import KMeans\n",
        "def get_Kmeans_pipe(x, n):\n",
        "    cluster_pipe = pipeline.Pipeline([\n",
        "        (\"scaler\", preprocessing.StandardScaler()),\n",
        "        (\"cluster\", cluster.KMeans(n_clusters=n, random_state=1))\n",
        "    ])\n",
        "    cluster_pipe = cluster_pipe.fit(x)\n",
        "    return cluster_pipe\n",
        "\n",
        "# N = 150 # maximum clusters tested\n",
        "# inertia = [cluster_pipe.named_steps[\"cluster\"].inertia_ for cluster_pipe in jb.Parallel(n_jobs=-1)(jb.delayed(get_Kmeans_pipe)(Kmeans_train_svd, n) for n in trange(2,N+1))]\n",
        "\n",
        "# ax = sns.lineplot(x=np.arange(2,N+1), y=inertia)\n",
        "# ax.set_title(\"Train set clustering inertia\")\n",
        "# ax.set_xlabel(\"n_clusters\")\n",
        "# _ = ax.set_ylabel(\"inertia\")"
      ],
      "execution_count": null,
      "outputs": []
    },
    {
      "cell_type": "code",
      "metadata": {
        "id": "JI_haA69x-FE"
      },
      "source": [
        "cluster_pipe = get_Kmeans_pipe(Kmeans_train_svd, n=60)\n",
        "cluster_values = cluster_pipe.predict(Kmeans_train_svd)"
      ],
      "execution_count": null,
      "outputs": []
    },
    {
      "cell_type": "code",
      "metadata": {
        "id": "O-5MByHJx-FF"
      },
      "source": [
        "# Kmeans_train.drop('cluster', axis=1, inplace=True)\n",
        "# KMeans_df.drop('cluster', axis=1, inplace=True)\n",
        "# KMeans_df_enc.drop('cluster', axis=1, inplace=True)"
      ],
      "execution_count": null,
      "outputs": []
    },
    {
      "cell_type": "code",
      "metadata": {
        "id": "48JdE-qQx-FF"
      },
      "source": [
        "Kmeans_train.insert(loc=Kmeans_train.shape[1], column=\"cluster\", value=cluster_values)\n",
        "KMeans_df.insert(loc=KMeans_df.shape[1], column=\"cluster\", value=cluster_values)\n",
        "KMeans_df_enc.insert(loc=KMeans_df_enc.shape[1], column=\"cluster\", value=cluster_values)"
      ],
      "execution_count": null,
      "outputs": []
    },
    {
      "cell_type": "code",
      "metadata": {
        "id": "6PsarBaix-FF"
      },
      "source": [
        "def decode_labels(df, encoders, progress=False):\n",
        "    df = df.copy()\n",
        "    for col in encoders.keys():\n",
        "        if col in df.columns:\n",
        "            df.loc[:,col] = encoders[col].inverse_transform(df.loc[:,col].apply(lambda x: round(x))) # decode with the nearest valid label\n",
        "    return df\n",
        "\n",
        "# cluster characteristics\n",
        "#cluster_centers = pd.DataFrame(cluster_pipe.named_steps[\"scaler\"].inverse_transform(cluster_pipe.named_steps[\"cluster\"].cluster_centers_), columns=x2.drop(columns=\"cluster\").columns)\n",
        "#cluster_centers.index.name = \"cluster\"\n",
        "cluster_centers = decode_labels(Kmeans_train.drop(columns=\"cluster\"), label_encoders)\n",
        "cluster_centers.head()"
      ],
      "execution_count": null,
      "outputs": []
    },
    {
      "cell_type": "code",
      "metadata": {
        "id": "sGw5Rr3Xx-FF"
      },
      "source": [
        "# clusters counts per vehicle make\n",
        "cluster_counts = pd.DataFrame({\"clusters\": KMeans_df.groupby(\"vehicle_make\").cluster.nunique()})\n",
        "cluster_counts = cluster_counts.sort_index().sort_values(\"clusters\", ascending=False)\n",
        "cluster_counts.head()"
      ],
      "execution_count": null,
      "outputs": []
    },
    {
      "cell_type": "code",
      "metadata": {
        "id": "ts1tn-fqx-FG"
      },
      "source": [
        "fig,ax = plt.subplots(figsize=(10,5))\n",
        "ax.set_title(\"Makes' clusters\")\n",
        "ax.set_xlabel(\"Make's number of clusters\")\n",
        "ax.set_ylabel(\"relative fraction\")\n",
        "ax = sns.histplot(data=cluster_counts, x=\"clusters\", stat=\"probability\", bins=np.arange(1,cluster_pipe.named_steps[\"cluster\"].cluster_centers_.shape[0] + 2) - 0.5, ax=ax)"
      ],
      "execution_count": null,
      "outputs": []
    },
    {
      "cell_type": "code",
      "metadata": {
        "id": "O19HqNODx-FG"
      },
      "source": [
        "# (vehicle_make, cluster) collisions counts\n",
        "collision_counts = pd.DataFrame({\"collisions\": KMeans_df.loc[:, [\"vehicle_make\", \"cluster\"]].value_counts()})\n",
        "collision_counts = collision_counts.sort_values(\"collisions\", ascending=False)\n",
        "collision_counts.head()"
      ],
      "execution_count": null,
      "outputs": []
    },
    {
      "cell_type": "code",
      "metadata": {
        "id": "uavr5Rq9x-FG"
      },
      "source": [
        "collision_counts_cluster = collision_counts.groupby(\"cluster\").collisions.sum() / collision_counts.collisions.sum()\n",
        "\n",
        "fig,ax = plt.subplots(figsize=(15,5))\n",
        "ax.set_title(\"Clusters collisions\")\n",
        "ax.set_xlabel(\"cluster\")\n",
        "ax.set_ylabel(\"relative fraction\")\n",
        "ax = sns.barplot(x=collision_counts_cluster.index, y=collision_counts_cluster.values, ax=ax, color=\"C0\")"
      ],
      "execution_count": null,
      "outputs": []
    },
    {
      "cell_type": "code",
      "metadata": {
        "id": "Cx7Z790ux-FG"
      },
      "source": [
        "encoders_dir = \"KMeans_encoders\"\n",
        "os.mkdir(encoders_dir)\n",
        "for col in label_encoders.keys():\n",
        "    jb.dump(label_encoders[col], encoders_dir + \"/\" + col + \".pkl\")\n",
        "\n",
        "estimators_dir = \"KMeans_estimators\"\n",
        "os.mkdir(estimators_dir)\n",
        "jb.dump(cluster_pipe, estimators_dir + \"/KMeans_cluster_pipe.pkl\")\n",
        "\n",
        "cluster_centers.to_csv(\"KMeans_cluster_centers.csv\")\n",
        "cluster_counts.to_csv(\"KMeans_cluster_counts.csv\")\n",
        "collision_counts.to_csv(\"KMeans_collision_counts.csv\")"
      ],
      "execution_count": null,
      "outputs": []
    },
    {
      "cell_type": "markdown",
      "metadata": {
        "id": "TSY367gEx-FG"
      },
      "source": [
        "### OPTICS"
      ]
    },
    {
      "cell_type": "code",
      "metadata": {
        "id": "zEL-L9Blx-FG"
      },
      "source": [
        "x3 = x.copy()\n",
        "y3 = y.copy()\n",
        "df3= df.copy()\n",
        "df_enc3 = df_enc.copy()\n",
        "\n",
        "from sklearn.decomposition import TruncatedSVD\n",
        "svd = TruncatedSVD(n_components=50)\n",
        "svd.fit(x3)\n",
        "x3_svd = svd.transform(x3)"
      ],
      "execution_count": 26,
      "outputs": []
    },
    {
      "cell_type": "code",
      "metadata": {
        "id": "kVf0y6bTx-FH"
      },
      "source": [
        "from sklearn.cluster import OPTICS\n",
        "# define the model\n",
        "optics_model = OPTICS(eps=0.2, min_samples=9)\n",
        "\n",
        "# train the model\n",
        "optics_result = optics_model.fit_predict(x3_svd)"
      ],
      "execution_count": null,
      "outputs": []
    },
    {
      "cell_type": "code",
      "metadata": {
        "id": "XHLPzTOpx-FH"
      },
      "source": [
        "x3.drop('cluster', axis=1, inplace=True)\n",
        "df3.drop('cluster', axis=1, inplace=True)\n",
        "df_enc3.drop('cluster', axis=1, inplace=True)"
      ],
      "execution_count": null,
      "outputs": []
    },
    {
      "cell_type": "code",
      "metadata": {
        "id": "Y2u25p_wx-FH"
      },
      "source": [
        "x3.insert(loc=x3.shape[1], column=\"cluster\", value=optics_result)\n",
        "df3.insert(loc=df3.shape[1], column=\"cluster\", value=optics_result)\n",
        "df_enc3.insert(loc=df_enc3.shape[1], column=\"cluster\", value=optics_result)"
      ],
      "execution_count": null,
      "outputs": []
    },
    {
      "cell_type": "code",
      "metadata": {
        "id": "fIRf7QVux-FH"
      },
      "source": [
        "def decode_labels(df, encoders, progress=False):\n",
        "    df = df.copy()\n",
        "    for col in encoders.keys():\n",
        "        if col in df.columns:\n",
        "            df.loc[:,col] = encoders[col].inverse_transform(df.loc[:,col].apply(lambda x: round(x))) # decode with the nearest valid label\n",
        "    return df\n",
        "\n",
        "# cluster characteristics\n",
        "#cluster_centers = pd.DataFrame(cluster_pipe.named_steps[\"scaler\"].inverse_transform(cluster_pipe.named_steps[\"cluster\"].cluster_centers_), columns=x2.drop(columns=\"cluster\").columns)\n",
        "#cluster_centers.index.name = \"cluster\"\n",
        "cluster_centers = decode_labels(x3.drop(columns=\"cluster\"), label_encoders)\n",
        "cluster_centers.head()"
      ],
      "execution_count": null,
      "outputs": []
    },
    {
      "cell_type": "code",
      "metadata": {
        "id": "U7cWIGUmx-FH"
      },
      "source": [
        "# clusters counts per vehicle make\n",
        "cluster_counts = pd.DataFrame({\"clusters\": df3.groupby(\"vehicle_make\").cluster.nunique()})\n",
        "cluster_counts = cluster_counts.sort_index().sort_values(\"clusters\", ascending=False)\n",
        "cluster_counts.head()"
      ],
      "execution_count": null,
      "outputs": []
    },
    {
      "cell_type": "code",
      "metadata": {
        "id": "j7h256fSx-FH"
      },
      "source": [
        "fig,ax = plt.subplots(figsize=(10,5))\n",
        "ax.set_title(\"Makes' clusters\")\n",
        "ax.set_xlabel(\"Make's number of clusters\")\n",
        "ax.set_ylabel(\"relative fraction\")\n",
        "ax = sns.histplot(data=cluster_counts, x=\"clusters\", stat=\"probability\", bins=np.arange(1,cluster_pipe.named_steps[\"cluster\"].cluster_centers_.shape[0] + 2) - 0.5, ax=ax)"
      ],
      "execution_count": null,
      "outputs": []
    },
    {
      "cell_type": "code",
      "metadata": {
        "id": "psUi8yRWx-FI"
      },
      "source": [
        "# (vehicle_make, cluster) collisions counts\n",
        "collision_counts = pd.DataFrame({\"collisions\": df3.loc[:, [\"vehicle_make\", \"cluster\"]].value_counts()})\n",
        "collision_counts = collision_counts.sort_values(\"collisions\", ascending=False)\n",
        "collision_counts.head()"
      ],
      "execution_count": null,
      "outputs": []
    },
    {
      "cell_type": "code",
      "metadata": {
        "id": "RCWFkRjWx-FI"
      },
      "source": [
        "collision_counts_cluster = collision_counts.groupby(\"cluster\").collisions.sum() / collision_counts.collisions.sum()\n",
        "\n",
        "fig,ax = plt.subplots(figsize=(15,5))\n",
        "ax.set_title(\"Clusters collisions\")\n",
        "ax.set_xlabel(\"cluster\")\n",
        "ax.set_ylabel(\"relative fraction\")\n",
        "ax = sns.barplot(x=collision_counts_cluster.index, y=collision_counts_cluster.values, ax=ax, color=\"C0\")"
      ],
      "execution_count": null,
      "outputs": []
    },
    {
      "cell_type": "code",
      "metadata": {
        "id": "bQ92k3ZTx-FI"
      },
      "source": [
        "encoders_dir = \"encoders3\"\n",
        "os.mkdir(encoders_dir)\n",
        "for col in label_encoders.keys():\n",
        "    jb.dump(label_encoders[col], encoders_dir + \"/\" + col + \".pkl\")\n",
        "\n",
        "estimators_dir = \"estimators3\"\n",
        "os.mkdir(estimators_dir)\n",
        "jb.dump(optics_model, estimators_dir + \"/cluster_pipe3.pkl\")\n",
        "\n",
        "cluster_centers.to_csv(\"cluster_centers3.csv\")\n",
        "cluster_counts.to_csv(\"cluster_counts3.csv\")\n",
        "collision_counts.to_csv(\"collision_counts3.csv\")"
      ],
      "execution_count": null,
      "outputs": []
    },
    {
      "cell_type": "markdown",
      "metadata": {
        "id": "r3ikKopHx-FI"
      },
      "source": [
        "### BIRCH"
      ]
    },
    {
      "cell_type": "code",
      "metadata": {
        "id": "ekvK8uGTx-FI"
      },
      "source": [
        "x4 = x.iloc[0:9999,:]\n",
        "y4 = y.iloc[0:9999,:]\n",
        "df4= df.iloc[0:9999,:]\n",
        "df_enc4 = df_enc.iloc[0:9999,:]\n",
        "\n",
        "\n",
        "BIRCH_train = x.copy()\n",
        "BIRCH_target = y.copy()\n",
        "BIRCH_df= df.copy()\n",
        "BIRCH_df_enc = df_enc.copy()\n",
        "\n",
        "\n",
        "from sklearn.decomposition import TruncatedSVD\n",
        "svd = TruncatedSVD(n_components=50)\n",
        "svd.fit(BIRCH_train)\n",
        "BIRCH_train_svd = svd.transform(BIRCH_train)"
      ],
      "execution_count": null,
      "outputs": []
    },
    {
      "cell_type": "code",
      "metadata": {
        "id": "MDcdWZY0x-FI"
      },
      "source": [
        "from sklearn.cluster import Birch\n",
        "# define the model\n",
        "birch_model = Birch(threshold=0.03, n_clusters=60)\n",
        "\n",
        "# train the model\n",
        "birch_result = birch_model.fit_predict(BIRCH_train_svd)"
      ],
      "execution_count": null,
      "outputs": []
    },
    {
      "cell_type": "code",
      "metadata": {
        "id": "1mm9zE7Zx-FI"
      },
      "source": [
        "# BIRCH_train.drop('cluster', axis=1, inplace=True)\n",
        "# BIRCH_df.drop('cluster', axis=1, inplace=True)\n",
        "# BIRCH_df_enc.drop('cluster', axis=1, inplace=True)"
      ],
      "execution_count": null,
      "outputs": []
    },
    {
      "cell_type": "code",
      "metadata": {
        "id": "zYLPsZUNx-FJ"
      },
      "source": [
        "BIRCH_train.insert(loc=BIRCH_train.shape[1], column=\"cluster\", value=birch_result)\n",
        "BIRCH_df.insert(loc=BIRCH_df.shape[1], column=\"cluster\", value=birch_result)\n",
        "BIRCH_df_enc.insert(loc=BIRCH_df_enc.shape[1], column=\"cluster\", value=birch_result)"
      ],
      "execution_count": null,
      "outputs": []
    },
    {
      "cell_type": "code",
      "metadata": {
        "id": "whPmJ5Z9x-FJ"
      },
      "source": [
        "def decode_labels(df, encoders, progress=False):\n",
        "    df = df.copy()\n",
        "    for col in encoders.keys():\n",
        "        if col in df.columns:\n",
        "            df.loc[:,col] = encoders[col].inverse_transform(df.loc[:,col].apply(lambda x: round(x))) # decode with the nearest valid label\n",
        "    return df\n",
        "\n",
        "# cluster characteristics\n",
        "#cluster_centers = pd.DataFrame(cluster_pipe.named_steps[\"scaler\"].inverse_transform(cluster_pipe.named_steps[\"cluster\"].cluster_centers_), columns=x2.drop(columns=\"cluster\").columns)\n",
        "#cluster_centers.index.name = \"cluster\"\n",
        "cluster_centers = decode_labels(BIRCH_train.drop(columns=\"cluster\"), label_encoders)\n",
        "cluster_centers.head()"
      ],
      "execution_count": null,
      "outputs": []
    },
    {
      "cell_type": "code",
      "metadata": {
        "id": "vdT60UWux-FJ"
      },
      "source": [
        "# clusters counts per vehicle make\n",
        "cluster_counts = pd.DataFrame({\"clusters\": BIRCH_df.groupby(\"vehicle_make\").cluster.nunique()})\n",
        "cluster_counts = cluster_counts.sort_index().sort_values(\"clusters\", ascending=False)\n",
        "cluster_counts.head()"
      ],
      "execution_count": null,
      "outputs": []
    },
    {
      "cell_type": "code",
      "metadata": {
        "id": "R3bpkgsQx-FJ"
      },
      "source": [
        "fig,ax = plt.subplots(figsize=(10,5))\n",
        "ax.set_title(\"Makes' clusters\")\n",
        "ax.set_xlabel(\"Make's number of clusters\")\n",
        "ax.set_ylabel(\"relative fraction\")\n",
        "ax = sns.histplot(data=cluster_counts, x=\"clusters\", stat=\"probability\", bins=np.arange(1,cluster_pipe.named_steps[\"cluster\"].cluster_centers_.shape[0] + 2) - 0.5, ax=ax)"
      ],
      "execution_count": null,
      "outputs": []
    },
    {
      "cell_type": "code",
      "metadata": {
        "id": "6kN_8_ljx-FJ"
      },
      "source": [
        "# (vehicle_make, cluster) collisions counts\n",
        "collision_counts = pd.DataFrame({\"collisions\": BIRCH_df.loc[:, [\"vehicle_make\", \"cluster\"]].value_counts()})\n",
        "collision_counts = collision_counts.sort_values(\"collisions\", ascending=False)\n",
        "collision_counts.head()"
      ],
      "execution_count": null,
      "outputs": []
    },
    {
      "cell_type": "code",
      "metadata": {
        "id": "7uQlqh73x-FJ"
      },
      "source": [
        "collision_counts_cluster = collision_counts.groupby(\"cluster\").collisions.sum() / collision_counts.collisions.sum()\n",
        "\n",
        "fig,ax = plt.subplots(figsize=(15,5))\n",
        "ax.set_title(\"Clusters collisions\")\n",
        "ax.set_xlabel(\"cluster\")\n",
        "ax.set_ylabel(\"relative fraction\")\n",
        "ax = sns.barplot(x=collision_counts_cluster.index, y=collision_counts_cluster.values, ax=ax, color=\"C0\")"
      ],
      "execution_count": null,
      "outputs": []
    },
    {
      "cell_type": "code",
      "metadata": {
        "id": "RkHyiHVpx-FK"
      },
      "source": [
        "encoders_dir = \"BIRCH_encoders\"\n",
        "os.mkdir(encoders_dir)\n",
        "for col in label_encoders.keys():\n",
        "    jb.dump(label_encoders[col], encoders_dir + \"/\" + col + \".pkl\")\n",
        "\n",
        "estimators_dir = \"BIRCH_estimators\"\n",
        "os.mkdir(estimators_dir)\n",
        "jb.dump(birch_model, estimators_dir + \"/BIRCH_cluster_pipe.pkl\")\n",
        "\n",
        "cluster_centers.to_csv(\"BIRCH_cluster_centers.csv\")\n",
        "cluster_counts.to_csv(\"BIRCH_cluster_counts.csv\")\n",
        "collision_counts.to_csv(\"BIRCH_collision_counts.csv\")"
      ],
      "execution_count": null,
      "outputs": []
    },
    {
      "cell_type": "markdown",
      "metadata": {
        "id": "93xQt1J8x-FK"
      },
      "source": [
        "Work presented in this report shows how clustering could help determine common properties in one motorcycle make incidents.\n",
        "The problem is that not all motorcycles can be assigned to a single type of collision: in fact many of the seen entries (about $40\\%$) show for the same make different groups.\n",
        "Althought the non-unique correspondence, $60\\%$ of collisions presents one cluster per make.\n",
        "\n",
        "Eventually, further improvements to this notebook could be training a supervised model capable of predicting motorcycle type based on collision characteristics; in this way relation between incidents properties and motorcycle make will be further proved."
      ]
    },
    {
      "cell_type": "markdown",
      "metadata": {
        "id": "Lg4Dd3gVx-FK"
      },
      "source": [
        "### Agglomerative Clustering"
      ]
    },
    {
      "cell_type": "code",
      "metadata": {
        "id": "dygR90hKx-FK"
      },
      "source": [
        "from sklearn.cluster import AgglomerativeClustering"
      ],
      "execution_count": null,
      "outputs": []
    },
    {
      "cell_type": "code",
      "metadata": {
        "id": "SHUOJof3x-FK"
      },
      "source": [
        "AC_train = x.iloc[0:9999,:]\n",
        "AC_target = y.iloc[0:9999,:]\n",
        "AC_df= df.iloc[0:9999,:]\n",
        "AC_df_enc = df_enc.iloc[0:9999,:]\n",
        "\n",
        "# AC_train = x.copy()\n",
        "# AC_target = y.copy()\n",
        "# AC_df= df.copy()\n",
        "# AC_df_enc = df_enc.copy()\n",
        "\n",
        "from sklearn.decomposition import TruncatedSVD\n",
        "svd = TruncatedSVD(n_components=50)\n",
        "svd.fit(AC_train)\n",
        "AC_train_svd = svd.transform(AC_train)"
      ],
      "execution_count": null,
      "outputs": []
    },
    {
      "cell_type": "code",
      "metadata": {
        "id": "C6zKJFBZx-FK"
      },
      "source": [
        "AC_train_svd"
      ],
      "execution_count": null,
      "outputs": []
    },
    {
      "cell_type": "code",
      "metadata": {
        "id": "iN8GmVSkx-FK"
      },
      "source": [
        "ac_model = AgglomerativeClustering(n_clusters=60)\n",
        "ac_result = ac_model.fit_predict(AC_train_svd)"
      ],
      "execution_count": null,
      "outputs": []
    },
    {
      "cell_type": "code",
      "metadata": {
        "id": "y27SYsk5x-FL"
      },
      "source": [
        "ac_result"
      ],
      "execution_count": null,
      "outputs": []
    },
    {
      "cell_type": "code",
      "metadata": {
        "id": "9sE_hIzGx-FL"
      },
      "source": [
        "# AC_train.drop('cluster', axis=1, inplace=True)\n",
        "# AC_df.drop('cluster', axis=1, inplace=True)\n",
        "# AC_df_enc.drop('cluster', axis=1, inplace=True)"
      ],
      "execution_count": null,
      "outputs": []
    },
    {
      "cell_type": "code",
      "metadata": {
        "id": "SH8bpcDMx-FL"
      },
      "source": [
        "AC_train.insert(loc=AC_train.shape[1], column=\"cluster\", value=ac_result)\n",
        "AC_df.insert(loc=AC_df.shape[1], column=\"cluster\", value=ac_result)\n",
        "AC_df_enc.insert(loc=AC_df_enc.shape[1], column=\"cluster\", value=ac_result)"
      ],
      "execution_count": null,
      "outputs": []
    },
    {
      "cell_type": "code",
      "metadata": {
        "id": "DGQ8nSCZx-FL"
      },
      "source": [
        "def decode_labels(df, encoders, progress=False):\n",
        "    df = df.copy()\n",
        "    for col in encoders.keys():\n",
        "        if col in df.columns:\n",
        "            df.loc[:,col] = encoders[col].inverse_transform(df.loc[:,col].apply(lambda x: round(x))) # decode with the nearest valid label\n",
        "    return df\n",
        "\n",
        "# cluster characteristics\n",
        "# cluster_centers = pd.DataFrame(cluster_pipe.named_steps[\"scaler\"].inverse_transform(cluster_pipe.named_steps[\"cluster\"].cluster_centers_), columns=x2.drop(columns=\"cluster\").columns)\n",
        "# cluster_centers.index.name = \"cluster\"\n",
        "cluster_centers = decode_labels(AC_train.drop(columns=\"cluster\"), label_encoders)\n",
        "cluster_centers.head()"
      ],
      "execution_count": null,
      "outputs": []
    },
    {
      "cell_type": "code",
      "metadata": {
        "id": "oF-EuSI9x-FL"
      },
      "source": [
        "cluster_counts = pd.DataFrame({\"clusters\": AC_df.groupby(\"vehicle_make\").cluster.nunique()})\n",
        "cluster_counts = cluster_counts.sort_index().sort_values(\"clusters\", ascending=False)\n",
        "cluster_counts.head()"
      ],
      "execution_count": null,
      "outputs": []
    },
    {
      "cell_type": "code",
      "metadata": {
        "id": "kB0oIPwux-FL"
      },
      "source": [
        "fig,ax = plt.subplots(figsize=(10,5))\n",
        "ax.set_title(\"Makes' clusters\")\n",
        "ax.set_xlabel(\"Make's number of clusters\")\n",
        "ax.set_ylabel(\"relative fraction\")\n",
        "ax = sns.histplot(data=cluster_counts, x=\"clusters\", stat=\"probability\", bins=np.arange(1,cluster_pipe.named_steps[\"cluster\"].cluster_centers_.shape[0] + 2) - 0.5, ax=ax)"
      ],
      "execution_count": null,
      "outputs": []
    },
    {
      "cell_type": "code",
      "metadata": {
        "id": "G9bVESmWx-FL"
      },
      "source": [
        "# (vehicle_make, cluster) collisions counts\n",
        "collision_counts = pd.DataFrame({\"collisions\": AC_df.loc[:, [\"vehicle_make\", \"cluster\"]].value_counts()})\n",
        "collision_counts = collision_counts.sort_values(\"collisions\", ascending=False)\n",
        "collision_counts.head()"
      ],
      "execution_count": null,
      "outputs": []
    },
    {
      "cell_type": "code",
      "metadata": {
        "id": "jbN4sEfEx-FM"
      },
      "source": [
        "collision_counts_cluster = collision_counts.groupby(\"cluster\").collisions.sum() / collision_counts.collisions.sum()\n",
        "\n",
        "fig,ax = plt.subplots(figsize=(15,5))\n",
        "ax.set_title(\"Clusters collisions\")\n",
        "ax.set_xlabel(\"cluster\")\n",
        "ax.set_ylabel(\"relative fraction\")\n",
        "ax = sns.barplot(x=collision_counts_cluster.index, y=collision_counts_cluster.values, ax=ax, color=\"C0\")"
      ],
      "execution_count": null,
      "outputs": []
    },
    {
      "cell_type": "code",
      "metadata": {
        "id": "KtvZ7Dwkx-FM"
      },
      "source": [
        "encoders_dir = \"AC_encoders\"\n",
        "os.mkdir(encoders_dir)\n",
        "for col in label_encoders.keys():\n",
        "    jb.dump(label_encoders[col], encoders_dir + \"/\" + col + \".pkl\")\n",
        "\n",
        "estimators_dir = \"AC_estimators\"\n",
        "os.mkdir(estimators_dir)\n",
        "jb.dump(birch_model, estimators_dir + \"/AC_cluster_pipe.pkl\")\n",
        "\n",
        "cluster_centers.to_csv(\"AC_cluster_centers.csv\")\n",
        "cluster_counts.to_csv(\"AC_cluster_counts.csv\")\n",
        "collision_counts.to_csv(\"AC_collision_counts.csv\")"
      ],
      "execution_count": null,
      "outputs": []
    },
    {
      "cell_type": "code",
      "metadata": {
        "id": "mT7U6baxEfTq"
      },
      "source": [
        "while True:pass"
      ],
      "execution_count": null,
      "outputs": []
    }
  ]
}